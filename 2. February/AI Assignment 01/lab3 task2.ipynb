{
 "cells": [
  {
   "cell_type": "code",
   "execution_count": null,
   "metadata": {},
   "outputs": [],
   "source": [
    "# 3951 abdul rahim\n",
    "\n",
    "class AutonomousCar:\n",
    "    def __init__(self):\n",
    "        self.current_lane = \"middle\"\n",
    "\n",
    "    def apply_brakes(self):\n",
    "        print(\"Brakes applied!\")\n",
    "\n",
    "    def move_right(self):\n",
    "        self.current_lane = \"right\"\n",
    "        print(\"Moving to the right lane.\")\n",
    "\n",
    "    def move_left(self):\n",
    "        self.current_lane = \"left\"\n",
    "        print(\"Moving to the left lane.\")\n",
    "\n",
    "    def parking_brakes(self):\n",
    "        print(\"Parking brakes applied!\")\n",
    "\n",
    "    def process(self, camera, distance):\n",
    "        if camera == \"front\" and distance <= 8:\n",
    "            self.apply_brakes()\n",
    "        elif camera == \"left\" and distance <= 2:\n",
    "            self.move_right()\n",
    "        elif camera == \"right\" and distance <= 2:\n",
    "            self.move_left()\n",
    "        elif camera == \"rear\" and distance <= 0.05:  # Assuming distance is in meters (5 cm)\n",
    "            self.parking_brakes()\n",
    "\n",
    "\n",
    "car = AutonomousCar()\n",
    "\n",
    "# Simulating \n",
    "car.process(\"front\", 7) \n",
    "car.process(\"left\", 1)   \n",
    "car.process(\"right\", 3)  \n",
    "car.process(\"rear\", 0.03) \n"
   ]
  }
 ],
 "metadata": {
  "language_info": {
   "name": "python"
  }
 },
 "nbformat": 4,
 "nbformat_minor": 2
}
