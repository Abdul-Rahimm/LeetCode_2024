{
 "cells": [
  {
   "cell_type": "code",
   "execution_count": 3,
   "metadata": {},
   "outputs": [],
   "source": [
    "import numpy as np    # type: ignore"
   ]
  },
  {
   "cell_type": "code",
   "execution_count": 5,
   "metadata": {},
   "outputs": [
    {
     "name": "stdout",
     "output_type": "stream",
     "text": [
      "[1 2 3 4 5]\n"
     ]
    }
   ],
   "source": [
    "# do something related with numpy\n",
    "def main():\n",
    "    a = np.array([1,2,3,4,5])\n",
    "    print(a)\n",
    "    \n",
    "if __name__ == '__main__':\n",
    "    main()\n",
    "    "
   ]
  },
  {
   "cell_type": "code",
   "execution_count": 6,
   "metadata": {},
   "outputs": [
    {
     "name": "stdout",
     "output_type": "stream",
     "text": [
      "[ 1  4  9 16 25]\n"
     ]
    }
   ],
   "source": [
    "# I want a function which receives a numpy array and squares all elements of the array\n",
    "\n",
    "import numpy as np # type: ignore\n",
    "\n",
    "def square(a):\n",
    "    return a*a\n",
    "\n",
    "if __name__ == '__main__':\n",
    "    a = np.array([1,2,3,4,5])\n",
    "    print(square(a))\n",
    "    \n",
    "    \n",
    "    "
   ]
  },
  {
   "cell_type": "code",
   "execution_count": 41,
   "metadata": {},
   "outputs": [
    {
     "name": "stdout",
     "output_type": "stream",
     "text": [
      "[15, 20, 25]\n"
     ]
    }
   ],
   "source": [
    "nums = [1,2,3,4,5,6,7]\n",
    "answer = []\n",
    "n = len(nums) # 5\n",
    "\n",
    "windowSize = 5\n",
    "# need k hisab se chalna - SE \n",
    "# code (improvement)\n",
    "for i in range(n - windowSize + 1):\n",
    "    total = 0\n",
    "    for j in range(i, i + windowSize): #0-4 1-5 2-6\n",
    "        total += nums[j]\n",
    "    \n",
    "    answer.append(total)\n",
    "    \n",
    "print(answer)\n",
    "\n",
    "    \n",
    "\n"
   ]
  },
  {
   "cell_type": "code",
   "execution_count": 7,
   "metadata": {},
   "outputs": [
    {
     "name": "stdout",
     "output_type": "stream",
     "text": [
      "28\n",
      "28\n"
     ]
    }
   ],
   "source": [
    "# Brute force approach\n",
    "nums = [0,1,2,3,4,5] #0-6\n",
    "\n",
    "counter = 2\n",
    "\n",
    "for count in range(counter):\n",
    "    start = int(input(\"Input the starting index : \"))\n",
    "    end = int(input(\"Input the starting index : \"))\n",
    "\n",
    "    sum = 0\n",
    "    for i in range(start, end+1):\n",
    "        sum += nums[i] \n",
    "        \n",
    "    print(sum)\n",
    "\n",
    "# counter   = 10000\n",
    "# len(nums) = 10000 0-9999\n",
    "\n",
    "# worse case \n"
   ]
  },
  {
   "cell_type": "code",
   "execution_count": 12,
   "metadata": {},
   "outputs": [
    {
     "name": "stdout",
     "output_type": "stream",
     "text": [
      "20\n",
      "18\n"
     ]
    }
   ],
   "source": [
    "# prefix sum - optimal\n",
    "nums = [2,3,4,5,6] # 10000\n",
    "prefixSum = [0]\n",
    "\n",
    "sum = 0\n",
    "counter = 10000\n",
    "\n",
    "#O(n) operations - Linear relationship\n",
    "for i in range(len(nums)):\n",
    "    sum += nums[i]\n",
    "    prefixSum.append(sum)\n",
    "    \n",
    "    \n",
    "for count in range(counter):\n",
    "    start = int(input(\"Input the starting index : \")) # 0\n",
    "    end = int(input(\"Input the starting index : \"))   # 4\n",
    "\n",
    "    answer = prefixSum[end+1] - prefixSum[start] #single operaion lets me know the sum\n",
    "    print(answer)\n",
    "        \n",
    "    \n",
    "# 10000 + 10000 \n"
   ]
  },
  {
   "cell_type": "code",
   "execution_count": 4,
   "metadata": {},
   "outputs": [
    {
     "name": "stdout",
     "output_type": "stream",
     "text": [
      "[2, 4, 6, 1, 3, 5, 7]\n"
     ]
    }
   ],
   "source": [
    "nums = [1,2,3,4,5,6,7] # TC O(n) -inplace\n",
    "# sort : even odd\n",
    "#sorted = [] #O(n) extra space - grows linearly with input elements\n",
    "            #O(1) -constant extra space - variable\n",
    "\n",
    "\n",
    "        \n",
    "print(sorted)\n",
    "        \n",
    "\n",
    "        "
   ]
  },
  {
   "cell_type": "code",
   "execution_count": 1,
   "metadata": {},
   "outputs": [],
   "source": [
    "class Stack:\n",
    "    def __init__(self):\n",
    "        self.stack = [] # private\n",
    "        \n",
    "    def push(self, number):\n",
    "        self.stack.append(number)\n",
    "        \n",
    "    def pop(self):\n",
    "        if self.isEmpty():\n",
    "            return\n",
    "        \n",
    "        self.stack.pop() #case where stack in empty - code break\n",
    "        \n",
    "    def top(self):\n",
    "        if self.isEmpty():\n",
    "            return\n",
    "        \n",
    "        n = len(self.stack) #break when the array is empty\n",
    "        return self.stack[n-1]\n",
    "    \n",
    "    def isEmpty(self):\n",
    "        #boolean function - returns true or false - user experince\n",
    "        n = len(self.stack)\n",
    "        if n == 0:\n",
    "            print(\"Stack is empty\")\n",
    "            return True\n",
    "        \n",
    "        return False    \n"
   ]
  },
  {
   "cell_type": "code",
   "execution_count": 14,
   "metadata": {},
   "outputs": [],
   "source": [
    "class Queue:\n",
    "    def __init__(self):\n",
    "        self.queue = []\n",
    "        \n",
    "    def enqueue(self, number):\n",
    "        self.queue.append(number)\n",
    "        \n",
    "    def dequeue(self):\n",
    "        if not self.IsEmpty():\n",
    "            return self.queue.pop(0)\n",
    "        else:\n",
    "            print(\"Queue is already empty 1\")\n",
    "            \n",
    "    def front(self):\n",
    "        if self.IsEmpty():\n",
    "            print(\"Queue is already empty. nothing to show\")\n",
    "        else:\n",
    "            return self.queue[0]\n",
    "        \n",
    "    def IsEmpty(self):\n",
    "        return len(self.queue) == 0\n",
    "    \n",
    "    def Size(self):\n",
    "        return len(self.queue)\n",
    "        \n",
    "    "
   ]
  },
  {
   "cell_type": "markdown",
   "metadata": {},
   "source": [
    "### implement a Stack using Queue class"
   ]
  },
  {
   "cell_type": "code",
   "execution_count": 40,
   "metadata": {},
   "outputs": [],
   "source": [
    "class StackMadeWithQueues:\n",
    "    def __init__(self):\n",
    "        self.QueueIN = Queue()\n",
    "        self.QueueOUT = Queue()\n",
    "        \n",
    "    def push(self, value):\n",
    "        self.QueueIN.enqueue(value)\n",
    "        \n",
    "    def pop(self):\n",
    "        if self.QueueIN.IsEmpty():\n",
    "            print(\"Stack is already empty\")\n",
    "            return\n",
    "    \n",
    "        while(self.QueueIN.Size() != 1):\n",
    "            frontNumber = self.QueueIN.dequeue()\n",
    "            self.QueueOUT.enqueue(frontNumber)\n",
    "        \n",
    "        #i only have 20\n",
    "        self.QueueIN.dequeue()\n",
    "        \n",
    "        while(self.QueueOUT.IsEmpty() == False):\n",
    "            frontNumber = self.QueueOUT.dequeue()\n",
    "            self.QueueIN.enqueue(frontNumber)\n",
    "            \n",
    "    def top(self):\n",
    "        if self.QueueIN.IsEmpty():\n",
    "            print(\"Stack is already empty top\")\n",
    "            return\n",
    "    \n",
    "        while(self.QueueIN.Size() != 1):\n",
    "            frontNumber = self.QueueIN.dequeue()\n",
    "            self.QueueOUT.enqueue(frontNumber)\n",
    "        \n",
    "        #i only have 20\n",
    "        \n",
    "        frontNumber = self.QueueIN.dequeue()\n",
    "        self.QueueOUT.enqueue(frontNumber)\n",
    "            \n",
    "        while(self.QueueOUT.IsEmpty()):\n",
    "            frontNumber = self.QueueOUT.dequeue()\n",
    "            self.QueueIN.enqueue(frontNumber)\n",
    "            \n",
    "    def Size(self):\n",
    "        return self.QueueIN.Size()\n",
    "    \n",
    "    def isEmpty(self):\n",
    "        return self.QueueIN.Size() == 0"
   ]
  },
  {
   "cell_type": "code",
   "execution_count": 42,
   "metadata": {},
   "outputs": [
    {
     "data": {
      "text/plain": [
       "True"
      ]
     },
     "execution_count": 42,
     "metadata": {},
     "output_type": "execute_result"
    }
   ],
   "source": [
    "stackUsingQueue = StackMadeWithQueues()\n",
    "stackUsingQueue.push(1)\n",
    "stackUsingQueue.push(10)\n",
    "stackUsingQueue.push(13)\n",
    "stackUsingQueue.push(130)\n",
    "\n",
    "stackUsingQueue.pop()\n",
    "stackUsingQueue.pop()\n",
    "stackUsingQueue.pop()\n",
    "stackUsingQueue.pop()\n",
    "\n",
    "stackUsingQueue.isEmpty()\n"
   ]
  },
  {
   "cell_type": "markdown",
   "metadata": {},
   "source": [
    "### implement a Queue using Stack class\n"
   ]
  }
 ],
 "metadata": {
  "kernelspec": {
   "display_name": "Python 3",
   "language": "python",
   "name": "python3"
  },
  "language_info": {
   "codemirror_mode": {
    "name": "ipython",
    "version": 3
   },
   "file_extension": ".py",
   "mimetype": "text/x-python",
   "name": "python",
   "nbconvert_exporter": "python",
   "pygments_lexer": "ipython3",
   "version": "3.12.1"
  }
 },
 "nbformat": 4,
 "nbformat_minor": 2
}
