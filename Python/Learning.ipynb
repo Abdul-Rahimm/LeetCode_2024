{
 "cells": [
  {
   "cell_type": "code",
   "execution_count": 13,
   "metadata": {},
   "outputs": [
    {
     "name": "stdout",
     "output_type": "stream",
     "text": [
      "not found\n",
      "2\n",
      "4\n",
      "5\n"
     ]
    }
   ],
   "source": [
    "arr = [1 , 10, 20, 30, 40, 50]\n",
    "target = 600\n",
    "\n",
    "#first i set the left and right ptr\n",
    "\n",
    "l = 0\n",
    "r = len(arr) - 1\n",
    "greatestNumber = arr[r]\n",
    "smallestNumber = arr[0]\n",
    "\n",
    "if(target < smallestNumber or target > greatestNumber):\n",
    "    print(\"not found\")\n",
    "\n",
    "#skip over this loop\n",
    "while(l <= r):\n",
    "    mid = (l+r)//2\n",
    "    print(mid)\n",
    "    \n",
    "    if(arr[mid] == target):\n",
    "        print(\"target has been found at index: \", mid)\n",
    "        break\n",
    "    elif(arr[mid] < target): # 100 < 150\n",
    "        l = mid+1\n",
    "    else:\n",
    "        r = mid-1\n",
    "        "
   ]
  },
  {
   "cell_type": "code",
   "execution_count": 4,
   "metadata": {},
   "outputs": [
    {
     "name": "stdout",
     "output_type": "stream",
     "text": [
      "index:  0  value:  5\n",
      "index:  1  value:  4\n",
      "index:  2  value:  6\n",
      "index:  3  value:  3\n",
      "index:  4  value:  7\n",
      "index:  5  value:  8\n",
      "index:  6  value:  1\n",
      "index:  7  value:  2\n",
      "index:  8  value:  9\n",
      "Number has been found at index  8\n"
     ]
    }
   ],
   "source": [
    "nums = [5,4,6,3,7,8,1,2,9]\n",
    "\n",
    "# linear search - target ko search krna hai\n",
    "\n",
    "target = int(input(\"Please enter the number which u want to see: \"))\n",
    "\n",
    "found = -1          # assume k number is not there\n",
    "n = len(nums)\n",
    "for i in range(0, n):\n",
    "    print(\"index: \", i, \" value: \", nums[i])\n",
    "    \n",
    "    if nums[i] == target:\n",
    "        found = i   # current index i usko save\n",
    "        break       # wahin se bahar ajao loop se\n",
    "        \n",
    "if(found != -1):\n",
    "    print(\"Number has been found at index \", found)\n",
    "else:\n",
    "    print(\"number has not been found\")\n",
    "\n"
   ]
  },
  {
   "cell_type": "code",
   "execution_count": 8,
   "metadata": {},
   "outputs": [
    {
     "name": "stdout",
     "output_type": "stream",
     "text": [
      "t 0\n",
      "h 0\n",
      "i 0\n",
      "s 0\n",
      "  0\n",
      "i 1\n",
      "i 1\n",
      "s 1\n",
      "  1\n",
      "a 2\n",
      "  2\n",
      "Number of spaces are  3\n"
     ]
    }
   ],
   "source": [
    "def checkSpaces(s):\n",
    "    # intitial spaces ignore\n",
    "    i = 0\n",
    "    while(s[i] == ' '):\n",
    "        i += 1\n",
    "        \n",
    "        \n",
    "    # currently at first non space character\n",
    "    spaces = 0\n",
    "    index = i\n",
    "    while index < len(s):\n",
    "        print(s[index], spaces)\n",
    "        if(s[index] != ' '):\n",
    "            index += 1\n",
    "            continue\n",
    "        \n",
    "        # at this point i encounter a space\n",
    "        while(index < len(s) and s[index] == ' '):\n",
    "            index += 1\n",
    "        # j -= 1\n",
    "            \n",
    "        spaces += 1\n",
    "        \n",
    "    return spaces\n",
    "    \n",
    "    \n",
    "    \n",
    "    \n",
    "\n",
    "text = input(\"Please enter a string: \")\n",
    "print(\"Number of spaces are \", checkSpaces(text))\n",
    "\n"
   ]
  },
  {
   "cell_type": "code",
   "execution_count": null,
   "metadata": {},
   "outputs": [
    {
     "name": "stdout",
     "output_type": "stream",
     "text": [
      "<class 'int'> <class 'list'>\n",
      "<class 'int'> <class 'list'>\n",
      "<class 'int'> <class 'list'>\n",
      "<class 'int'> <class 'list'>\n",
      "1d array\n",
      "<class 'list'> <class 'list'>\n",
      "<class 'list'> <class 'list'>\n",
      "<class 'list'> <class 'list'>\n",
      "1d array\n"
     ]
    }
   ],
   "source": [
    "def customPrint(dataStructure):\n",
    "    # it tells the user whether the array is 1d or 2d\n",
    "    n = len(dataStructure)\n",
    "    two = False\n",
    "    \n",
    "    for i in range(0, n):\n",
    "        if type(dataStructure[i]) == '<class \\'list\\'>':\n",
    "            two = True\n",
    "        print(type(dataStructure[i]), '<class \\'list\\'>')\n",
    "            \n",
    "    if(two == True):\n",
    "        print(\"2d array\")\n",
    "    else:\n",
    "        print(\"1d array\")\n",
    "    \n",
    "arr = [1,2,3,4]\n",
    "nums = [[1,2,3],[4,5,6],[6,7,8]]\n",
    "\n",
    "customPrint(arr) # 1d array\n",
    "customPrint(nums) # 2d array"
   ]
  },
  {
   "cell_type": "code",
   "execution_count": null,
   "metadata": {},
   "outputs": [],
   "source": [
    "# keep taking input(num) from the user \n",
    "# untill user inputs -1\n",
    "\n",
    "num = 0 #dummy value\n",
    "while(num != -1):\n",
    "    num = int(input(\"Please enter value. -1 to exit: \"))\n",
    "    \n",
    "    \n",
    "    "
   ]
  },
  {
   "cell_type": "code",
   "execution_count": null,
   "metadata": {},
   "outputs": [
    {
     "name": "stdout",
     "output_type": "stream",
     "text": [
      "printing 0 - 9 numbers by using for loop\n",
      "0 1 2 3 4 5 6 7 8 9 \n",
      "printing 0 - 9 numbers by using while loop\n",
      "0 1 2 3 4 5 6 7 8 9 "
     ]
    }
   ],
   "source": [
    "# printing 0 - 9 numbers by using for loop\n",
    "print(\"printing 0 - 9 numbers by using for loop\")\n",
    "\n",
    "for number in range(0, 10):\n",
    "    print(number, end= \" \")\n",
    "    \n",
    "print()\n",
    "print(\"printing 0 - 9 numbers by using while loop\")\n",
    "\n",
    "#initialize\n",
    "i = 0\n",
    "while(i < 10):\n",
    "    print(i, end=\" \")\n",
    "    i = i + 1  #increment i by 1\n"
   ]
  },
  {
   "cell_type": "code",
   "execution_count": null,
   "metadata": {},
   "outputs": [
    {
     "name": "stdout",
     "output_type": "stream",
     "text": [
      "wrong number\n"
     ]
    }
   ],
   "source": [
    "n = int(input(\"Please enter a number: \"))\n",
    "\n",
    "def evenSeries():\n",
    "    # this function prints even number series starting from 1 till n\n",
    "    \n",
    "    print(\"even: \", end=\" \")\n",
    "    for i in range(2, n+1, 2):\n",
    "        print(i, end=\" \")\n",
    "\n",
    "def oddSeries():\n",
    "    # this function prints odd number series starting from 1 till n\n",
    "\n",
    "    print(\"odd: \", end=\" \")\n",
    "    for i in range(1, n, 2):\n",
    "        print(i, end=\" \")\n",
    "        \n",
    "choice = int(input(\"For even press 1. For odd press 2: \"))\n",
    "\n",
    "\n",
    "if(choice == 1):\n",
    "    evenSeries()\n",
    "elif(choice == 2):\n",
    "    oddSeries()\n",
    "else:\n",
    "    print(\"wrong number\")\n"
   ]
  },
  {
   "cell_type": "code",
   "execution_count": null,
   "metadata": {},
   "outputs": [
    {
     "name": "stdout",
     "output_type": "stream",
     "text": [
      "18\n",
      "17\n",
      "18\n",
      "19\n",
      "17\n",
      "4 19\n",
      "[[5, 4, 4, 5], [5, 4, 4, 4], [5, 5, 4, 4], [5, 5, 5, 4], [4, 4, 4, 5]]\n"
     ]
    }
   ],
   "source": [
    "# scores=[[],[],[],[],[]]\n",
    "highest=0\n",
    "user=0\n",
    "\n",
    "for i in range (0,5):\n",
    "    total=0\n",
    "    for j in range (0,4):\n",
    "        score=int(input(\" what do you score it : \"))\n",
    "        # scores[i].append(score)\n",
    "        total+=score\n",
    "        \n",
    "    # print(total)\n",
    "    \n",
    "    if total>highest:\n",
    "        highest=total\n",
    "        user=i+1\n",
    "\n",
    "print(user,highest)\n",
    "# print(scores)"
   ]
  },
  {
   "cell_type": "code",
   "execution_count": null,
   "metadata": {},
   "outputs": [
    {
     "name": "stdout",
     "output_type": "stream",
     "text": [
      "1 2 3 "
     ]
    },
    {
     "ename": "ValueError",
     "evalue": "invalid literal for int() with base 10: ''",
     "output_type": "error",
     "traceback": [
      "\u001b[1;31m---------------------------------------------------------------------------\u001b[0m",
      "\u001b[1;31mValueError\u001b[0m                                Traceback (most recent call last)",
      "Cell \u001b[1;32mIn[17], line 19\u001b[0m\n\u001b[0;32m     17\u001b[0m \u001b[38;5;28;01mfor\u001b[39;00m i \u001b[38;5;129;01min\u001b[39;00m \u001b[38;5;28mrange\u001b[39m(\u001b[38;5;241m0\u001b[39m,\u001b[38;5;241m5\u001b[39m):\n\u001b[0;32m     18\u001b[0m     \u001b[38;5;28mprint\u001b[39m(i\u001b[38;5;241m+\u001b[39m\u001b[38;5;241m1\u001b[39m, end\u001b[38;5;241m=\u001b[39m\u001b[38;5;124m\"\u001b[39m\u001b[38;5;124m \u001b[39m\u001b[38;5;124m\"\u001b[39m)\n\u001b[1;32m---> 19\u001b[0m     currentScore \u001b[38;5;241m=\u001b[39m \u001b[43monePerson\u001b[49m\u001b[43m(\u001b[49m\u001b[43m)\u001b[49m\n\u001b[0;32m     21\u001b[0m     \u001b[38;5;28;01mif\u001b[39;00m(currentScore \u001b[38;5;241m>\u001b[39m hscore):\n\u001b[0;32m     22\u001b[0m         person \u001b[38;5;241m=\u001b[39m i\u001b[38;5;241m+\u001b[39m\u001b[38;5;241m1\u001b[39m\n",
      "Cell \u001b[1;32mIn[17], line 6\u001b[0m, in \u001b[0;36monePerson\u001b[1;34m()\u001b[0m\n\u001b[0;32m      4\u001b[0m total \u001b[38;5;241m=\u001b[39m \u001b[38;5;241m0\u001b[39m\n\u001b[0;32m      5\u001b[0m \u001b[38;5;28;01mfor\u001b[39;00m i \u001b[38;5;129;01min\u001b[39;00m \u001b[38;5;28mrange\u001b[39m(\u001b[38;5;241m0\u001b[39m,\u001b[38;5;241m4\u001b[39m):\n\u001b[1;32m----> 6\u001b[0m     score \u001b[38;5;241m=\u001b[39m \u001b[38;5;28;43mint\u001b[39;49m\u001b[43m(\u001b[49m\u001b[38;5;28;43minput\u001b[39;49m\u001b[43m(\u001b[49m\u001b[43m)\u001b[49m\u001b[43m)\u001b[49m\n\u001b[0;32m      7\u001b[0m     total \u001b[38;5;241m=\u001b[39m total \u001b[38;5;241m+\u001b[39m score\n\u001b[0;32m      8\u001b[0m     arr\u001b[38;5;241m.\u001b[39mappend(score)\n",
      "\u001b[1;31mValueError\u001b[0m: invalid literal for int() with base 10: ''"
     ]
    }
   ],
   "source": [
    "\n",
    "def onePerson():\n",
    "    arr = [] #empty array\n",
    "\n",
    "    total = 0\n",
    "    for i in range(0,4):\n",
    "        score = int(input())\n",
    "        total = total + score\n",
    "        arr.append(score)\n",
    "\n",
    "    # print(total)\n",
    "    return total\n",
    "    \n",
    "# initializing\n",
    "person = 0\n",
    "hscore = 0\n",
    "\n",
    "for i in range(0,5):\n",
    "    currentScore = onePerson()\n",
    "    \n",
    "    if(currentScore > hscore):\n",
    "        person = i+1\n",
    "        hscore = currentScore\n",
    "        \n",
    "print(person, hscore)\n",
    "    "
   ]
  },
  {
   "cell_type": "code",
   "execution_count": null,
   "metadata": {},
   "outputs": [],
   "source": []
  },
  {
   "cell_type": "code",
   "execution_count": null,
   "metadata": {},
   "outputs": [],
   "source": []
  },
  {
   "cell_type": "code",
   "execution_count": null,
   "metadata": {},
   "outputs": [
    {
     "name": "stdout",
     "output_type": "stream",
     "text": [
      "* * * * * * * * \n",
      "* * * * * * * * \n",
      "* * * * * * * * \n",
      "* * * * * * * * \n",
      "* * * * * * * * \n",
      "* * * * * * * * \n",
      "* * * * * * * * \n",
      "* * * * * * * * \n"
     ]
    }
   ],
   "source": [
    "n = int(input(\"Enter input: \"))\n",
    "\n",
    "def lineprint():\n",
    "    for i in range(0, n):   # inner loop --> aik line\n",
    "        print(\"*\", end=\" \")\n",
    "        \n",
    "    print() #this is part of the outer loop\n",
    "\n",
    "# ------------------------------------------------------------\n",
    "for j in range(0, n): # outer loop -> 6 times\n",
    "    lineprint()"
   ]
  },
  {
   "cell_type": "code",
   "execution_count": null,
   "metadata": {},
   "outputs": [
    {
     "name": "stdout",
     "output_type": "stream",
     "text": [
      "4\n",
      "5\n",
      "6\n",
      "7\n",
      "8\n",
      "9\n",
      "15\n",
      "-1\n"
     ]
    }
   ],
   "source": [
    "n = 0\n",
    "\n",
    "while n != -1:\n",
    "    n = int(input(\"Please enter number: \"))\n",
    "    print(n)\n"
   ]
  },
  {
   "cell_type": "code",
   "execution_count": null,
   "metadata": {},
   "outputs": [
    {
     "name": "stdout",
     "output_type": "stream",
     "text": [
      "i= 0 j= 0 | i= 0 j= 1 | i= 0 j= 2 | i= 0 j= 3 | i= 0 j= 4 | \n",
      "i= 1 j= 0 | i= 1 j= 1 | i= 1 j= 2 | i= 1 j= 3 | i= 1 j= 4 | \n",
      "i= 2 j= 0 | i= 2 j= 1 | i= 2 j= 2 | i= 2 j= 3 | i= 2 j= 4 | \n",
      "i= 3 j= 0 | i= 3 j= 1 | i= 3 j= 2 | i= 3 j= 3 | i= 3 j= 4 | \n",
      "i= 4 j= 0 | i= 4 j= 1 | i= 4 j= 2 | i= 4 j= 3 | i= 4 j= 4 | \n"
     ]
    }
   ],
   "source": [
    "for i in range(0, 5):\n",
    "    for j in range(0, 5):\n",
    "        print(\"i=\", i , \"j=\" , j, end=\" | \")\n",
    "        \n",
    "    print()"
   ]
  },
  {
   "cell_type": "code",
   "execution_count": null,
   "metadata": {},
   "outputs": [
    {
     "name": "stdout",
     "output_type": "stream",
     "text": [
      "1 3 5 7 "
     ]
    }
   ],
   "source": [
    "# input the mumber of lines from user\n",
    "\n",
    "n = int(input(\"Please Enter how many lines do you want: \"))\n",
    "\n",
    "for i in range(0, n):\n",
    "    print(2*i + 1, end=\" \")"
   ]
  },
  {
   "cell_type": "code",
   "execution_count": null,
   "metadata": {},
   "outputs": [
    {
     "name": "stdout",
     "output_type": "stream",
     "text": [
      "93571\n",
      "9357\n",
      "935\n",
      "93\n",
      "9\n"
     ]
    }
   ],
   "source": [
    "nums2d = [ [93571],[9357],[935],[93],[9] ]\n",
    "nums = [93571, 9357, 935 , 93, 9]\n",
    "\n",
    "\n",
    "for i in range(0, len(nums)):\n",
    "    print(nums[i])"
   ]
  },
  {
   "cell_type": "code",
   "execution_count": null,
   "metadata": {},
   "outputs": [
    {
     "name": "stdout",
     "output_type": "stream",
     "text": [
      "my name is rahim | your name is aashir\n"
     ]
    }
   ],
   "source": [
    "print(\"my name is rahim\", end=\" | \")\n",
    "print(\"your name is aashir\")"
   ]
  },
  {
   "cell_type": "code",
   "execution_count": null,
   "metadata": {},
   "outputs": [
    {
     "name": "stdout",
     "output_type": "stream",
     "text": [
      "*,*,*,*,*,*,*,*,*,*,"
     ]
    }
   ],
   "source": [
    "number = int(input())\n",
    "\n",
    "for i in range(0, number):\n",
    "    print(\"*\", end=\",\")"
   ]
  },
  {
   "cell_type": "code",
   "execution_count": null,
   "metadata": {},
   "outputs": [
    {
     "name": "stdout",
     "output_type": "stream",
     "text": [
      "[0, 10, 2, 3, 4, 5]\n",
      "0, 10, 2, 3, 4, 5, \n",
      "0, 10, 2, 3, 4, 5\n",
      "My name\n"
     ]
    }
   ],
   "source": [
    "nums = [0,10,2,3,4,5]\n",
    "\n",
    "# method 1\n",
    "print(nums)\n",
    "\n",
    "# method 2\n",
    "for number in nums:\n",
    "    print(number, end= \", \")\n",
    "    \n",
    "print()\n",
    "# method 3\n",
    "n = len(nums)  # number of elements\n",
    "\n",
    "for i in range(0, n-1):\n",
    "    print(nums[i], end=\", \")\n",
    "print(nums[n-1])  # line change\n",
    "\n",
    "print(\"My name\")\n"
   ]
  },
  {
   "cell_type": "code",
   "execution_count": null,
   "metadata": {},
   "outputs": [
    {
     "name": "stdout",
     "output_type": "stream",
     "text": [
      "1 2 3 \n",
      "4 5 6 10 20 \n",
      "7 8 9 \n"
     ]
    }
   ],
   "source": [
    "# nested loops\n",
    "\n",
    "nums = [1,2,3,4]\n",
    "two_d_array = [ [1,2,3],[4,5,6, 10, 20],[7,8,9] ]\n",
    "\n",
    "for array in two_d_array:\n",
    "    for number in array:\n",
    "        print(number, end= \" \")\n",
    "    print() # line change"
   ]
  },
  {
   "cell_type": "code",
   "execution_count": null,
   "metadata": {},
   "outputs": [
    {
     "name": "stdout",
     "output_type": "stream",
     "text": [
      "[[1, 2, 3], [4, 5, 6], [7, 8, 9]]\n"
     ]
    }
   ],
   "source": [
    "print(two_d_array)"
   ]
  },
  {
   "cell_type": "code",
   "execution_count": null,
   "metadata": {},
   "outputs": [
    {
     "name": "stdout",
     "output_type": "stream",
     "text": [
      "Even Numbers are  1\n"
     ]
    }
   ],
   "source": [
    "# array\n",
    "\n",
    "nums = [10, 145]\n",
    "\n",
    "def printNumbers():\n",
    "    n = len(nums) # size\n",
    "    \n",
    "    # print each number one by one\n",
    "    for number in nums:\n",
    "        print(number)\n",
    "\n",
    "def countEven():\n",
    "    # count the even numbers\n",
    "    even = 0    # this variable counts the number of even nuymbers\n",
    "    for number in nums:\n",
    "        even = even + parity(number)\n",
    "    \n",
    "    print(\"Even Numbers are \", even)\n",
    "\n",
    "\n",
    "    \n",
    "number = 13\n",
    "\n",
    "def parity(number):\n",
    "    # even or odd\n",
    "    if(number % 2 == 0):\n",
    "        return 1 #even\n",
    "    else:\n",
    "        return 0\n",
    "        \n",
    "countEven()   "
   ]
  },
  {
   "cell_type": "code",
   "execution_count": null,
   "metadata": {},
   "outputs": [
    {
     "name": "stdout",
     "output_type": "stream",
     "text": [
      "[1 2 3 4 5]\n"
     ]
    }
   ],
   "source": [
    "# do something related with numpy\n",
    "def main():\n",
    "    a = np.array([1,2,3,4,5])\n",
    "    print(a)\n",
    "    \n",
    "if __name__ == '__main__':\n",
    "    main()\n",
    "    "
   ]
  },
  {
   "cell_type": "code",
   "execution_count": null,
   "metadata": {},
   "outputs": [
    {
     "name": "stdout",
     "output_type": "stream",
     "text": [
      "[ 1  4  9 16 25]\n"
     ]
    }
   ],
   "source": [
    "# I want a function which receives a numpy array and squares all elements of the array\n",
    "\n",
    "import numpy as np # type: ignore\n",
    "\n",
    "def square(a):\n",
    "    return a*a\n",
    "\n",
    "if __name__ == '__main__':\n",
    "    a = np.array([1,2,3,4,5])\n",
    "    print(square(a))\n",
    "    \n",
    "    \n",
    "    "
   ]
  },
  {
   "cell_type": "code",
   "execution_count": null,
   "metadata": {},
   "outputs": [
    {
     "name": "stdout",
     "output_type": "stream",
     "text": [
      "[15, 20, 25]\n"
     ]
    }
   ],
   "source": [
    "nums = [1,2,3,4,5,6,7]\n",
    "answer = []\n",
    "n = len(nums) # 5\n",
    "\n",
    "windowSize = 5\n",
    "# need k hisab se chalna - SE \n",
    "# code (improvement)\n",
    "for i in range(n - windowSize + 1):\n",
    "    total = 0\n",
    "    for j in range(i, i + windowSize): #0-4 1-5 2-6\n",
    "        total += nums[j]\n",
    "    \n",
    "    answer.append(total)\n",
    "    \n",
    "print(answer)\n",
    "\n",
    "    \n",
    "\n"
   ]
  },
  {
   "cell_type": "code",
   "execution_count": null,
   "metadata": {},
   "outputs": [
    {
     "name": "stdout",
     "output_type": "stream",
     "text": [
      "28\n",
      "28\n"
     ]
    }
   ],
   "source": [
    "# Brute force approach\n",
    "nums = [0,1,2,3,4,5] #0-6\n",
    "\n",
    "counter = 2\n",
    "\n",
    "for count in range(counter):\n",
    "    start = int(input(\"Input the starting index : \"))\n",
    "    end = int(input(\"Input the starting index : \"))\n",
    "\n",
    "    sum = 0\n",
    "    for i in range(start, end+1):\n",
    "        sum += nums[i] \n",
    "        \n",
    "    print(sum)\n",
    "\n",
    "# counter   = 10000\n",
    "# len(nums) = 10000 0-9999\n",
    "\n",
    "# worse case \n"
   ]
  },
  {
   "cell_type": "code",
   "execution_count": null,
   "metadata": {},
   "outputs": [
    {
     "name": "stdout",
     "output_type": "stream",
     "text": [
      "20\n",
      "18\n"
     ]
    }
   ],
   "source": [
    "# prefix sum - optimal\n",
    "nums = [2,3,4,5,6] # 10000\n",
    "prefixSum = [0]\n",
    "\n",
    "sum = 0\n",
    "counter = 10000\n",
    "\n",
    "#O(n) operations - Linear relationship\n",
    "for i in range(len(nums)):\n",
    "    sum += nums[i]\n",
    "    prefixSum.append(sum)\n",
    "    \n",
    "    \n",
    "for count in range(counter):\n",
    "    start = int(input(\"Input the starting index : \")) # 0\n",
    "    end = int(input(\"Input the starting index : \"))   # 4\n",
    "\n",
    "    answer = prefixSum[end+1] - prefixSum[start] #single operaion lets me know the sum\n",
    "    print(answer)\n",
    "        \n",
    "    \n",
    "# 10000 + 10000 \n"
   ]
  },
  {
   "cell_type": "code",
   "execution_count": null,
   "metadata": {},
   "outputs": [
    {
     "name": "stdout",
     "output_type": "stream",
     "text": [
      "[2, 4, 6, 1, 3, 5, 7]\n"
     ]
    }
   ],
   "source": [
    "nums = [1,2,3,4,5,6,7] # TC O(n) -inplace\n",
    "# sort : even odd\n",
    "#sorted = [] #O(n) extra space - grows linearly with input elements\n",
    "            #O(1) -constant extra space - variable\n",
    "\n",
    "\n",
    "        \n",
    "print(sorted)\n",
    "        \n",
    "\n",
    "        "
   ]
  },
  {
   "cell_type": "code",
   "execution_count": null,
   "metadata": {},
   "outputs": [],
   "source": [
    "class Stack:\n",
    "    def __init__(self):\n",
    "        self.stack = [] # private\n",
    "        \n",
    "    def push(self, number):\n",
    "        self.stack.append(number)\n",
    "        \n",
    "    def pop(self):\n",
    "        if self.isEmpty():\n",
    "            return\n",
    "        \n",
    "        self.stack.pop() #case where stack in empty - code break\n",
    "        \n",
    "    def top(self):\n",
    "        if self.isEmpty():\n",
    "            return\n",
    "        \n",
    "        n = len(self.stack) #break when the array is empty\n",
    "        return self.stack[n-1]\n",
    "    \n",
    "    def isEmpty(self):\n",
    "        #boolean function - returns true or false - user experince\n",
    "        n = len(self.stack)\n",
    "        if n == 0:\n",
    "            print(\"Stack is empty\")\n",
    "            return True\n",
    "        \n",
    "        return False    \n"
   ]
  },
  {
   "cell_type": "code",
   "execution_count": null,
   "metadata": {},
   "outputs": [],
   "source": [
    "class Queue:\n",
    "    def __init__(self):\n",
    "        self.queue = []\n",
    "        \n",
    "    def enqueue(self, number):\n",
    "        self.queue.append(number)\n",
    "        \n",
    "    def dequeue(self):\n",
    "        if not self.IsEmpty():\n",
    "            return self.queue.pop(0)\n",
    "        else:\n",
    "            print(\"Queue is already empty 1\")\n",
    "            \n",
    "    def front(self):\n",
    "        if self.IsEmpty():\n",
    "            print(\"Queue is already empty. nothing to show\")\n",
    "        else:\n",
    "            return self.queue[0]\n",
    "        \n",
    "    def IsEmpty(self):\n",
    "        return len(self.queue) == 0\n",
    "    \n",
    "    def Size(self):\n",
    "        return len(self.queue)\n",
    "        \n",
    "    "
   ]
  },
  {
   "cell_type": "markdown",
   "metadata": {},
   "source": [
    "### implement a Stack using Queue class"
   ]
  },
  {
   "cell_type": "code",
   "execution_count": null,
   "metadata": {},
   "outputs": [],
   "source": [
    "class StackMadeWithQueues:\n",
    "    def __init__(self):\n",
    "        self.QueueIN = Queue()\n",
    "        self.QueueOUT = Queue()\n",
    "        \n",
    "    def push(self, value):\n",
    "        self.QueueIN.enqueue(value)\n",
    "        \n",
    "    def pop(self):\n",
    "        if self.QueueIN.IsEmpty():\n",
    "            print(\"Stack is already empty\")\n",
    "            return\n",
    "    \n",
    "        while(self.QueueIN.Size() != 1):\n",
    "            frontNumber = self.QueueIN.dequeue()\n",
    "            self.QueueOUT.enqueue(frontNumber)\n",
    "        \n",
    "        #i only have 20\n",
    "        self.QueueIN.dequeue()\n",
    "        \n",
    "        while(self.QueueOUT.IsEmpty() == False):\n",
    "            frontNumber = self.QueueOUT.dequeue()\n",
    "            self.QueueIN.enqueue(frontNumber)\n",
    "            \n",
    "    def top(self):\n",
    "        if self.QueueIN.IsEmpty():\n",
    "            print(\"Stack is already empty top\")\n",
    "            return\n",
    "    \n",
    "        while(self.QueueIN.Size() != 1):\n",
    "            frontNumber = self.QueueIN.dequeue()\n",
    "            self.QueueOUT.enqueue(frontNumber)\n",
    "        \n",
    "        #i only have 20\n",
    "        \n",
    "        frontNumber = self.QueueIN.dequeue()\n",
    "        self.QueueOUT.enqueue(frontNumber)\n",
    "            \n",
    "        while(self.QueueOUT.IsEmpty()):\n",
    "            frontNumber = self.QueueOUT.dequeue()\n",
    "            self.QueueIN.enqueue(frontNumber)\n",
    "            \n",
    "    def Size(self):\n",
    "        return self.QueueIN.Size()\n",
    "    \n",
    "    def isEmpty(self):\n",
    "        return self.QueueIN.Size() == 0"
   ]
  },
  {
   "cell_type": "code",
   "execution_count": null,
   "metadata": {},
   "outputs": [
    {
     "data": {
      "text/plain": [
       "True"
      ]
     },
     "execution_count": 42,
     "metadata": {},
     "output_type": "execute_result"
    }
   ],
   "source": [
    "stackUsingQueue = StackMadeWithQueues()\n",
    "stackUsingQueue.push(1)\n",
    "stackUsingQueue.push(10)\n",
    "stackUsingQueue.push(13)\n",
    "stackUsingQueue.push(130)\n",
    "\n",
    "stackUsingQueue.pop()\n",
    "stackUsingQueue.pop()\n",
    "stackUsingQueue.pop()\n",
    "stackUsingQueue.pop()\n",
    "\n",
    "stackUsingQueue.isEmpty()\n"
   ]
  },
  {
   "cell_type": "markdown",
   "metadata": {},
   "source": [
    "### implement a Queue using Stack class\n"
   ]
  },
  {
   "cell_type": "code",
   "execution_count": null,
   "metadata": {},
   "outputs": [
    {
     "name": "stdout",
     "output_type": "stream",
     "text": [
      "['Found', 'Found', 'Not Found']\n"
     ]
    }
   ],
   "source": [
    "arrayWords = [\"sad\",\"happy\",\"samy\",\"samhi\",\"sadden\"] #n\n",
    "#using arrayWords --> created a tree\n",
    "\n",
    "target = [\"sad\",\"samy\",\"happy\"] #m\n",
    "ans = [] #found, not found\n",
    "\n",
    "n = len(arrayWords)\n",
    "m = len(target)\n",
    "\n",
    "for i in range(0, m):\n",
    "    # i --> 0 1 2\n",
    "    status = False\n",
    "    for j in range(0, n):\n",
    "    # j -> 0d 1d 2d 3 4 \n",
    "        if(arrayWords[j] == target[i]):\n",
    "            ans.append(\"Found\")\n",
    "            status = True\n",
    "            break\n",
    "    if not status:\n",
    "        ans.append(\"Not Found\")\n",
    "        \n",
    "print(ans)"
   ]
  },
  {
   "cell_type": "code",
   "execution_count": null,
   "metadata": {},
   "outputs": [
    {
     "data": {
      "text/plain": [
       "'rahim'"
      ]
     },
     "execution_count": 10,
     "metadata": {},
     "output_type": "execute_result"
    }
   ],
   "source": [
    "class Node:\n",
    "    def __init__(self, number):\n",
    "        self.val = number\n",
    "        self.left = None\n",
    "        self.right = None\n",
    "        \n",
    "class BST:\n",
    "    def __init__(self) :\n",
    "        self.root = None\n",
    "    \n",
    "    #what if i dont want duplicate values\n",
    "    def insertNode(self, number):\n",
    "        #first number always becomes the root\n",
    "        if self.root is None:\n",
    "            self.root = Node(number)\n",
    "        else:\n",
    "            currentNode = self.root\n",
    "            \n",
    "            while True:\n",
    "                if number < currentNode.val:\n",
    "                    if currentNode.left is None:\n",
    "                        currentNode.left = Node(number)\n",
    "                        break\n",
    "                    else:\n",
    "                        currentNode = currentNode.left #updating my current Node\n",
    "\n",
    "                else: #number >= currentNode.val\n",
    "                    if currentNode.right is None:\n",
    "                        currentNode.right = Node(number)\n",
    "                        break\n",
    "                    else:\n",
    "                        currentNode = currentNode.right #most important\n",
    "            \n",
    "    #pre order\n",
    "    #in order\n",
    "    #post order"
   ]
  },
  {
   "cell_type": "code",
   "execution_count": null,
   "metadata": {},
   "outputs": [],
   "source": [
    "tree1 = BST()\n",
    "tree12 = BST()\n",
    "\n",
    "tree1.insertNode(9) #root\n",
    "tree1.insertNode(5)\n",
    "tree1.insertNode(3)\n",
    "tree1.insertNode(1)\n",
    "\n",
    "\n",
    "array = [1,2,3,4]\n",
    "array.append(5)"
   ]
  },
  {
   "cell_type": "code",
   "execution_count": null,
   "metadata": {},
   "outputs": [],
   "source": [
    "class ListNode:\n",
    "    def __init__(self, number):\n",
    "        self.val = number\n",
    "        self.next = None\n",
    "        \n",
    "class List:\n",
    "    def __init__(self ):\n",
    "        self.root = None\n",
    "        \n",
    "    def InsertNodeList(self, number):\n",
    "        if self.root is None:\n",
    "            self.root = ListNode(number)\n",
    "        else:\n",
    "            current = self.root\n",
    "            \n",
    "            while True:\n",
    "                if current.next is None:\n",
    "                    current.next = ListNode(number)\n",
    "                    break\n",
    "                else:\n",
    "                    current = current.next\n",
    "                 \n",
    "    def printValues(self):\n",
    "        current = self.root\n",
    "        \n",
    "        while current is not None:\n",
    "            print(current.val)\n",
    "            current = current.next\n",
    "\n",
    "        \n"
   ]
  },
  {
   "cell_type": "code",
   "execution_count": null,
   "metadata": {},
   "outputs": [
    {
     "name": "stdout",
     "output_type": "stream",
     "text": [
      "1\n",
      "13\n",
      "2\n",
      "23\n",
      "21\n"
     ]
    }
   ],
   "source": [
    "ObjectList = List()\n",
    "ObjectList.InsertNodeList(1)\n",
    "ObjectList.InsertNodeList(13)\n",
    "ObjectList.InsertNodeList(2)\n",
    "\n",
    "\n",
    "\n",
    "ObjectList.printValues()\n",
    "\n"
   ]
  },
  {
   "cell_type": "code",
   "execution_count": null,
   "metadata": {},
   "outputs": [
    {
     "name": "stdout",
     "output_type": "stream",
     "text": [
      "2\n"
     ]
    }
   ],
   "source": [
    "print(2)"
   ]
  },
  {
   "cell_type": "code",
   "execution_count": null,
   "metadata": {},
   "outputs": [
    {
     "name": "stdout",
     "output_type": "stream",
     "text": [
      "aabbcceedd\n"
     ]
    }
   ],
   "source": [
    "s = \"aaaaabbbbbcccceeeeeddddddd\"\n",
    "# print a new str\n",
    "# which doesnt have 3 or more equal characters\n",
    "\n",
    "ans = s[0] #a\n",
    "cnt = 1\n",
    "index = 0\n",
    "\n",
    "for i in range(1, len(s)):\n",
    "    #compare s[i] with the last char of ans\n",
    "    if(s[i] == ans[-1]):\n",
    "        cnt += 1\n",
    "        \n",
    "        if(cnt < 3):\n",
    "            ans += s[i]\n",
    "    else:\n",
    "        ans += s[i]     #append the new char\n",
    "        cnt = 1         #reset the counter\n",
    "        \n",
    "print(ans)\n",
    "        \n",
    "        \n",
    "    "
   ]
  },
  {
   "cell_type": "code",
   "execution_count": null,
   "metadata": {},
   "outputs": [
    {
     "name": "stdout",
     "output_type": "stream",
     "text": [
      "0 0|1 0|2 0|\n",
      "0 1|1 1|2 1|\n",
      "0 2|1 2|2 2|\n",
      "0 3|1 3|2 3|\n"
     ]
    }
   ],
   "source": [
    "matrix = [[1,2,3,4],[11,22,33,44],[111,222,333,444]]\n",
    "\n",
    "for i in range(len(matrix[0])):\n",
    "    for j in range(len(matrix)):\n",
    "        print(j,i , end=\"|\")\n",
    "    print()\n",
    "    "
   ]
  },
  {
   "cell_type": "code",
   "execution_count": null,
   "metadata": {},
   "outputs": [
    {
     "name": "stdout",
     "output_type": "stream",
     "text": [
      "Number has not been found\n"
     ]
    }
   ],
   "source": [
    "arr = [4,3,10,5,2,34,76,0]\n",
    "\n",
    "length = len(arr)\n",
    "target = 765 # this number is what we are searching for\n",
    "found = False   # nahi mila\n",
    "\n",
    "for i in range(length):\n",
    "    if(arr[i] == target):\n",
    "        print(\"Number has been found\")\n",
    "        found = True #number has been found\n",
    "        \n",
    "if(found == False):\n",
    "    print(\"Number has not been found\")\n",
    "        \n"
   ]
  }
 ],
 "metadata": {
  "kernelspec": {
   "display_name": "Python 3",
   "language": "python",
   "name": "python3"
  },
  "language_info": {
   "codemirror_mode": {
    "name": "ipython",
    "version": 3
   },
   "file_extension": ".py",
   "mimetype": "text/x-python",
   "name": "python",
   "nbconvert_exporter": "python",
   "pygments_lexer": "ipython3",
   "version": "3.12.1"
  }
 },
 "nbformat": 4,
 "nbformat_minor": 2
}
