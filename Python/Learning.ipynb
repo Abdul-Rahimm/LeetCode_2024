{
 "cells": [
  {
   "cell_type": "code",
   "execution_count": 15,
   "metadata": {},
   "outputs": [],
   "source": [
    "def removeChangeLine(current):\n",
    "    # this function recieves a string\n",
    "    # and removes '/n' from the end of it\n",
    "    # processing to remove /n\n",
    "    temp = \"\"\n",
    "    \n",
    "    for j in range(0, len(current)-1):\n",
    "        temp += current[j]\n",
    "        \n",
    "    return temp"
   ]
  },
  {
   "cell_type": "code",
   "execution_count": null,
   "metadata": {},
   "outputs": [
    {
     "name": "stdout",
     "output_type": "stream",
     "text": [
      "The strings containing digits are below\n",
      "['12345', '12354', '2134213', '2435234', '123124sadasd']\n",
      "The strings containing alphabets are below\n",
      "['abcde', 'fdjasdnsaf', 'sdfswasd', 'fdgsdfs', 'asdasd123123']\n"
     ]
    }
   ],
   "source": [
    "myFile = open(\"passwords.txt\", \"r\")\n",
    "\n",
    "content = myFile.readlines()    # OG content = contains /n\n",
    "# processedContent = []           # strings without /n\n",
    "digits      = []\n",
    "alphabets   = []\n",
    "invalid     = []\n",
    "\n",
    "# iterating through the content and remove /n from the end of each string\n",
    "for i in range(0, len(content)):\n",
    "    currentString = content[i]\n",
    "    \n",
    "    # passing each string to function so that /n can be removed\n",
    "    newString = removeChangeLine(currentString)\n",
    "    \n",
    "    # if the starting char is digit or character\n",
    "    if(newString[0].isdigit() == True):\n",
    "        digits.append(newString)\n",
    "    else:\n",
    "        alphabets.append(newString)\n",
    "        \n",
    "print(\"The strings containing digits are below\")\n",
    "print(digits)\n",
    "print(\"The strings containing alphabets are below\")\n",
    "print(alphabets)\n",
    "\n",
    "# task: modify the existing code in order to seperate all invalid testcases to another array"
   ]
  },
  {
   "cell_type": "code",
   "execution_count": 4,
   "metadata": {},
   "outputs": [
    {
     "name": "stdout",
     "output_type": "stream",
     "text": [
      "Question 1 What is the result of 1  +  4 ? \n",
      "Question 2 What is the result of 2  +  4 ? \n",
      "Question 3 What is the result of 5  +  4 ? \n",
      "Overall score =  1\n"
     ]
    }
   ],
   "source": [
    "import random\n",
    "score = 0\n",
    "\n",
    "for i in range(3):\n",
    "    # asking one question from user\n",
    "    randomNumberA = random.randint(1,10)\n",
    "    randomNumberB = random.randint(1,10)\n",
    "    \n",
    "    print(\"Question\", i+1, \"What is the result of\", randomNumberA, \" + \", randomNumberB , \"? \")\n",
    "    answer = int(input())\n",
    "    \n",
    "    if(answer == randomNumberB + randomNumberA):\n",
    "        score += 1\n",
    "    \n",
    "print(\"Overall score = \", score)\n",
    "    "
   ]
  },
  {
   "cell_type": "code",
   "execution_count": null,
   "metadata": {},
   "outputs": [],
   "source": [
    "nums = [0,1,2,3,4]\n",
    "value = [1,3,5,10,7]\n",
    "weight = [3,4,5,2,3]\n",
    "\n",
    "def knapsack():\n",
    "    pass"
   ]
  },
  {
   "cell_type": "code",
   "execution_count": 15,
   "metadata": {},
   "outputs": [
    {
     "data": {
      "text/plain": [
       "15882455415227429404253703127090772871724410234473563207581748318444567162948183030959960131517678520479243672638179990208521148623422266876757623911219200000000000000000000000000"
      ]
     },
     "execution_count": 15,
     "metadata": {},
     "output_type": "execute_result"
    }
   ],
   "source": [
    "def factorial(num):\n",
    "    if num == 1:  # Corrected the base case condition\n",
    "        return 1\n",
    "    \n",
    "    ans = num * factorial(num - 1)\n",
    "    return ans\n",
    "\n",
    "answerrr = factorial(110)\n",
    "answerrr"
   ]
  },
  {
   "cell_type": "code",
   "execution_count": null,
   "metadata": {},
   "outputs": [
    {
     "name": "stdout",
     "output_type": "stream",
     "text": [
      "2\n",
      "3\n",
      "back from the func\n"
     ]
    }
   ],
   "source": [
    "def func():\n",
    "    print(2)\n",
    "    print(3)\n",
    "    \n",
    "func()\n",
    "print(\"back from the func\")"
   ]
  },
  {
   "cell_type": "code",
   "execution_count": 4,
   "metadata": {},
   "outputs": [
    {
     "name": "stdout",
     "output_type": "stream",
     "text": [
      "0\n",
      "1\n",
      "2\n",
      "3\n",
      "4\n"
     ]
    }
   ],
   "source": [
    "import time\n",
    "def recur(num):\n",
    "    # base case\n",
    "    if(num == 5):\n",
    "        return\n",
    "    \n",
    "    print(num)\n",
    "    time.sleep(1)\n",
    "    \n",
    "    num = num + 1\n",
    "    recur(num)\n",
    "\n",
    "\n",
    "recur(0)"
   ]
  },
  {
   "cell_type": "code",
   "execution_count": null,
   "metadata": {},
   "outputs": [
    {
     "name": "stdout",
     "output_type": "stream",
     "text": [
      "11001\n"
     ]
    }
   ],
   "source": [
    "# 25 % 2 -> = 1\n",
    "def toBinary(num):\n",
    "    arr = []\n",
    "    \n",
    "    while(num > 0):\n",
    "        arr.append(num % 2)\n",
    "        num //= 2\n",
    "        \n",
    "    arr.reverse()\n",
    "    \n",
    "    num = 0\n",
    "    # 1 1 0 0 1\n",
    "    for i in range(len(arr)):\n",
    "        num += arr[i]\n",
    "        num *= 10\n",
    "    \n",
    "    return num//10\n",
    "    \n",
    "# main is the first function to be execution\n",
    "def main():\n",
    "    decimal = int(input(\"Please input a number: \"))\n",
    "   \n",
    "    # return me the binary representation\n",
    "    ansArr = toBinary(decimal)\n",
    "    print(ansArr)\n",
    "    \n",
    "main()"
   ]
  },
  {
   "cell_type": "code",
   "execution_count": 3,
   "metadata": {},
   "outputs": [
    {
     "data": {
      "text/plain": [
       "10"
      ]
     },
     "execution_count": 3,
     "metadata": {},
     "output_type": "execute_result"
    }
   ],
   "source": [
    "arr = [1,0,1,0]\n",
    "\n",
    "def BinaryToDecimal(arr):\n",
    "    decimal = 0\n",
    "    power = len(arr) - 1\n",
    "    \n",
    "    for i in range(0, len(arr)):\n",
    "        decimal = decimal + pow(2, power)*arr[i] \n",
    "        power -= 1\n",
    "    \n",
    "    return decimal\n",
    "\n",
    "ans = BinaryToDecimal(arr)\n",
    "ans"
   ]
  },
  {
   "cell_type": "code",
   "execution_count": 5,
   "metadata": {},
   "outputs": [
    {
     "name": "stdout",
     "output_type": "stream",
     "text": [
      "11001\n"
     ]
    }
   ],
   "source": [
    "number = int(input(\"PLease enter a number?: \"))\n",
    "\n",
    "def toBinary(num):\n",
    "    arr = []\n",
    "    \n",
    "    while(num > 0):\n",
    "        arr.append(num % 2)\n",
    "        num = num // 2\n",
    "        \n",
    "    # loop se bahar\n",
    "    arr.reverse()\n",
    "    \n",
    "    s  = \"\"\n",
    "    \n",
    "    for bit in arr:\n",
    "        s += str(bit)\n",
    "    \n",
    "    return s\n",
    "    \n",
    "    \n",
    "\n",
    "\n",
    "ans = toBinary(number)\n",
    "print(ans)"
   ]
  },
  {
   "cell_type": "code",
   "execution_count": null,
   "metadata": {},
   "outputs": [
    {
     "name": "stdout",
     "output_type": "stream",
     "text": [
      "abcde\n",
      "fghsasda\n",
      "Ghasdjnhasjd\n",
      "1232341234\n",
      "Number of Incorrect pwds =  4\n"
     ]
    }
   ],
   "source": [
    "myFile = open(\"passwords.txt\", \"r\")\n",
    "\n",
    "lines = myFile.readlines()\n",
    "\n",
    "# processing to remove /n\n",
    "for i in range(0, len(lines)-1):\n",
    "    temp = \"\"\n",
    "    \n",
    "    for j in range(0, len(lines[i])-1):\n",
    "        temp += lines[i][j]\n",
    "        \n",
    "    lines[i] = temp\n",
    "\n",
    "\n",
    "incorrect = 0  # conditions\n",
    "\n",
    "for i in range(0, len(lines)):\n",
    "    firstCharCapital = True\n",
    "    checkDigit = False\n",
    "    currentString = lines[i]\n",
    "    \n",
    "    if(currentString[0] < 'A' or currentString[0] > 'Z'):\n",
    "        firstCharCapital = False\n",
    "        \n",
    "    for j in range(1, len(currentString)):\n",
    "        \n",
    "        if(currentString[j] >= '0' and currentString[j] <= '9'):\n",
    "            checkDigit = True\n",
    "            break\n",
    "    \n",
    "    if(firstCharCapital == False or checkDigit == False):\n",
    "        print(currentString)\n",
    "        incorrect += 1\n",
    "    \n",
    "\n",
    "print(\"Number of Incorrect pwds = \", incorrect)"
   ]
  },
  {
   "cell_type": "code",
   "execution_count": 3,
   "metadata": {},
   "outputs": [
    {
     "name": "stdout",
     "output_type": "stream",
     "text": [
      "Price per textbook: $ 15\n",
      "total cost of order =  120\n"
     ]
    }
   ],
   "source": [
    "number = int(input(\"Please enter the number of books: \"))\n",
    "price = 0\n",
    "\n",
    "if(number >= 1 and number <= 5):\n",
    "    print(\"Price per textbook: $\", 20)\n",
    "    price = 20\n",
    "elif(number >= 6 and number <= 9):\n",
    "    print(\"Price per textbook: $\", 15)\n",
    "    price = 15\n",
    "elif(number >= 10):\n",
    "    print(\"Price per textbook: $\", 12)\n",
    "    price = 10\n",
    "\n",
    "print(\"total cost of order = \", number*price)\n",
    "\n",
    "\n",
    "    \n"
   ]
  },
  {
   "cell_type": "code",
   "execution_count": 7,
   "metadata": {},
   "outputs": [
    {
     "data": {
      "text/plain": [
       "[1, 1, 2, 2, 3, 3, 3, 3, 4, 4, 5, 5, 12, 1000]"
      ]
     },
     "execution_count": 7,
     "metadata": {},
     "output_type": "execute_result"
    }
   ],
   "source": [
    "arr = [5,4,3,2,1,1000,12,3,4,3,2,1,3,5]\n",
    "\n",
    "# insertion sort\n",
    "for i in range(1, len(arr)):\n",
    "    extract = arr[i] # 2\n",
    "    \n",
    "    j = i-1 # 5\n",
    "    \n",
    "    while(j >= 0 and extract < arr[j]):\n",
    "        arr[j+1] = arr[j]\n",
    "        j -= 1\n",
    "        \n",
    "    arr[j+1] = extract\n",
    "    \n",
    "arr\n",
    "        \n"
   ]
  },
  {
   "cell_type": "code",
   "execution_count": 1,
   "metadata": {},
   "outputs": [],
   "source": [
    "import time"
   ]
  },
  {
   "cell_type": "code",
   "execution_count": null,
   "metadata": {},
   "outputs": [
    {
     "name": "stdout",
     "output_type": "stream",
     "text": [
      "2\n",
      "1\n",
      "0\n"
     ]
    }
   ],
   "source": [
    "def func(num):\n",
    "    if(num == 3):\n",
    "        return\n",
    "    \n",
    "    func(num+1)\n",
    "    \n",
    "    print(num)\n",
    "func(0)"
   ]
  },
  {
   "cell_type": "code",
   "execution_count": null,
   "metadata": {},
   "outputs": [
    {
     "name": "stdout",
     "output_type": "stream",
     "text": [
      "144\n"
     ]
    }
   ],
   "source": [
    "def fib(index):\n",
    "    if(index <= 1):\n",
    "        return index\n",
    "    \n",
    "    one = fib(index - 1) #fib(1) 1\n",
    "    two = fib(index - 2) #fib(0)\n",
    "    \n",
    "    return one +two\n",
    "    \n",
    "    \n",
    "    \n",
    "    \n",
    "\n",
    "index = int(input(\"Please enter: \"))\n",
    "ans = fib(index) # nth fib number --> actual fib number\n",
    "print(ans)"
   ]
  },
  {
   "cell_type": "code",
   "execution_count": null,
   "metadata": {},
   "outputs": [
    {
     "data": {
      "text/plain": [
       "[1, 2, 3, 4, 5, 90]"
      ]
     },
     "execution_count": 5,
     "metadata": {},
     "output_type": "execute_result"
    }
   ],
   "source": [
    "arr = [5,4,3,90,2,1]\n",
    "\n",
    "def bubbleSort(arr):\n",
    "    n = len(arr)\n",
    "    \n",
    "    for j in range(0, n-1):\n",
    "        for i in range(0, n-1-j):\n",
    "            if(arr[i] > arr[i+1]):\n",
    "                temp = arr[i]\n",
    "                arr[i] = arr[i+1]\n",
    "                arr[i+1] = temp\n",
    "    \n",
    "\n",
    "bubbleSort(arr)\n",
    "arr"
   ]
  },
  {
   "cell_type": "code",
   "execution_count": null,
   "metadata": {},
   "outputs": [],
   "source": []
  },
  {
   "cell_type": "code",
   "execution_count": 26,
   "metadata": {},
   "outputs": [
    {
     "name": "stdout",
     "output_type": "stream",
     "text": [
      "-1\n"
     ]
    }
   ],
   "source": [
    "arr = [1,2,3,4,5,6,7,8,9]\n",
    "target = 100\n",
    "\n",
    "def binarySearch(target, arr, l, r):\n",
    "    mid = (l+r)//2\n",
    "    \n",
    "    if(l > r):\n",
    "        return -1\n",
    "    \n",
    "    if(arr[mid] == target):\n",
    "        return mid\n",
    "    elif(arr[mid] < target):\n",
    "        return binarySearch(target, arr, mid+1, r)\n",
    "    else:\n",
    "        return binarySearch(target, arr, l, mid-1)   \n",
    "    \n",
    "    \n",
    "index = binarySearch(target, arr, 0, len(arr)-1)\n",
    "print(index)"
   ]
  },
  {
   "cell_type": "code",
   "execution_count": 27,
   "metadata": {},
   "outputs": [
    {
     "name": "stdout",
     "output_type": "stream",
     "text": [
      "55\n"
     ]
    }
   ],
   "source": [
    "saved = {}\n",
    "\n",
    "def fib(num): # return an integer\n",
    "    if(num <= 1):\n",
    "        return num\n",
    "    \n",
    "    return fib(num-1) + fib(num-2)\n",
    "    \n",
    "\n",
    "pos = int(input(\"Please enter the num: \"))\n",
    "ans = fib(pos) # returns the ith fibonacci number\n",
    "print(ans)"
   ]
  },
  {
   "cell_type": "code",
   "execution_count": null,
   "metadata": {},
   "outputs": [],
   "source": [
    "# binary search while\n",
    "\n",
    "\n",
    "\n",
    "arr = [1,2,3,4,5,6,7,8,9,10]\n",
    "target = 8\n",
    "\n",
    "# binarySearch --> return index of target (if not found -1)"
   ]
  },
  {
   "cell_type": "code",
   "execution_count": 16,
   "metadata": {},
   "outputs": [
    {
     "name": "stdout",
     "output_type": "stream",
     "text": [
      "initial function call\n",
      "0\n",
      "1\n",
      "2\n",
      "3\n",
      "value of num 3\n",
      "value of num 2\n",
      "value of num 1\n",
      "value of num 0\n",
      "all has ended\n"
     ]
    }
   ],
   "source": [
    "import time\n",
    "# recursion ???? --> while youre inside the function. u call that same function\n",
    "def recur(num):\n",
    "    # recursion ko stop = base case\n",
    "    if(num == 4):\n",
    "        return\n",
    "    \n",
    "    print(num)\n",
    "    recur(num+1)    # recursive call\n",
    "    \n",
    "    print(\"value of num\", num)\n",
    "\n",
    "# main function call\n",
    "print(\"initial function call\")\n",
    "recur(0)\n",
    "print(\"all has ended\")"
   ]
  },
  {
   "cell_type": "code",
   "execution_count": 7,
   "metadata": {},
   "outputs": [
    {
     "name": "stdout",
     "output_type": "stream",
     "text": [
      "30\n",
      "110\n"
     ]
    }
   ],
   "source": [
    "def addNumbers(a, b):\n",
    "    return a + b\n",
    "    \n",
    "num1 = 10\n",
    "num2 = 20\n",
    "\n",
    "ans = addNumbers(num1, num2)\n",
    "print(ans)\n",
    "\n",
    "second = addNumbers(10, 100)\n",
    "print(second)\n",
    " "
   ]
  },
  {
   "cell_type": "code",
   "execution_count": 13,
   "metadata": {},
   "outputs": [
    {
     "name": "stdout",
     "output_type": "stream",
     "text": [
      "inside func1\n",
      "all end\n",
      "inside func1\n"
     ]
    }
   ],
   "source": [
    "def func1():\n",
    "    print(\"inside func1\")\n",
    "    \n",
    "    \n",
    "\n",
    "    \n",
    "\n",
    "\n",
    "func1()\n",
    "print(\"all end\")\n",
    "func1()"
   ]
  },
  {
   "cell_type": "code",
   "execution_count": null,
   "metadata": {},
   "outputs": [
    {
     "name": "stdout",
     "output_type": "stream",
     "text": [
      "abdul rahim 0\n",
      "abdul rahim 1\n",
      "returning with count 1\n",
      "returning with count 0\n",
      "all end\n"
     ]
    }
   ],
   "source": [
    "# recursion is when we call a function from inside it\n",
    "import time\n",
    "\n",
    "def func( count):\n",
    "    # base case\n",
    "    if(count == 2):\n",
    "        return \n",
    "    \n",
    "    print(count)\n",
    "\n",
    "    func(count+1)\n",
    "    \n",
    "    print(\"returning with count\", count)\n",
    "    return \n",
    "\n",
    "# function call\n",
    "func(0)\n",
    "print(\"all end\")"
   ]
  },
  {
   "cell_type": "code",
   "execution_count": 3,
   "metadata": {},
   "outputs": [
    {
     "name": "stdout",
     "output_type": "stream",
     "text": [
      "<class 'int'>\n"
     ]
    }
   ],
   "source": [
    "num1 = int(input(\"enter num1: \"))\n",
    "num2 = int(input(\"enter num2: \"))\n",
    "\n",
    "# string + --> concatenate\n",
    "print(type(num1))"
   ]
  },
  {
   "cell_type": "code",
   "execution_count": 17,
   "metadata": {},
   "outputs": [
    {
     "name": "stdout",
     "output_type": "stream",
     "text": [
      "-1\n"
     ]
    }
   ],
   "source": [
    "nums = [5,4,6,3,7,2,7,10,7]\n",
    "target = int(input(\"Please enter what u want to search: \"))\n",
    "\n",
    "# Linear search --> returns index of the target. if not found returns -1\n",
    "index = -1\n",
    "\n",
    "for i in range(0, len(nums)):\n",
    "    if nums[i] == target:\n",
    "        index = i\n",
    "        break\n",
    "        \n",
    "print(index)\n",
    "\n"
   ]
  },
  {
   "cell_type": "code",
   "execution_count": 15,
   "metadata": {},
   "outputs": [
    {
     "name": "stdout",
     "output_type": "stream",
     "text": [
      "not equal\n"
     ]
    }
   ],
   "source": [
    "num1 = 1014\n",
    "\n",
    "if num1 != 101:\n",
    "    print(\"not equal\")\n",
    "else:   \n",
    "    print(\"equal\")"
   ]
  },
  {
   "cell_type": "code",
   "execution_count": 7,
   "metadata": {},
   "outputs": [
    {
     "name": "stdout",
     "output_type": "stream",
     "text": [
      "hello\n",
      "hello asda\n",
      "asdaasda\n",
      "sd\n",
      "asdaasdaasd\n",
      "\n",
      "\n",
      "asdaasdada\n",
      "\n",
      "asd\n"
     ]
    }
   ],
   "source": [
    "myFile = open(\"rahim.txt\", \"r\")\n",
    "\n",
    "readline = myFile.read()\n",
    "\n",
    "print(readline)"
   ]
  },
  {
   "cell_type": "code",
   "execution_count": 6,
   "metadata": {},
   "outputs": [],
   "source": [
    "myFile = open(\"rahim.txt\", \"a\")\n",
    "\n",
    "textLine = input(\"Please Enter a line to write to file: \")\n",
    "\n",
    "myFile.write(textLine)\n",
    "myFile.write(\"\\n\") # add a new line\n",
    "\n",
    "myFile.close()"
   ]
  },
  {
   "cell_type": "code",
   "execution_count": null,
   "metadata": {},
   "outputs": [
    {
     "name": "stderr",
     "output_type": "stream",
     "text": [
      "<>:23: SyntaxWarning: invalid escape sequence '\\l'\n",
      "<>:23: SyntaxWarning: invalid escape sequence '\\l'\n",
      "C:\\Users\\jupit\\AppData\\Local\\Temp\\ipykernel_16920\\2350697963.py:23: SyntaxWarning: invalid escape sequence '\\l'\n",
      "  pathName = \"Procom\\lowLevelFile.txt\"\n",
      "C:\\Users\\jupit\\AppData\\Local\\Temp\\ipykernel_16920\\2350697963.py:23: SyntaxWarning: invalid escape sequence '\\l'\n",
      "  pathName = \"Procom\\lowLevelFile.txt\"\n"
     ]
    },
    {
     "ename": "FileNotFoundError",
     "evalue": "[Errno 2] No such file or directory: 'ResearchPapers/lowLevelFile.txt'",
     "output_type": "error",
     "traceback": [
      "\u001b[1;31m---------------------------------------------------------------------------\u001b[0m",
      "\u001b[1;31mFileNotFoundError\u001b[0m                         Traceback (most recent call last)",
      "Cell \u001b[1;32mIn[16], line 24\u001b[0m\n\u001b[0;32m     18\u001b[0m     \u001b[38;5;28;01mreturn\u001b[39;00m array_2d\n\u001b[0;32m     23\u001b[0m pathName \u001b[38;5;241m=\u001b[39m \u001b[38;5;124m\"\u001b[39m\u001b[38;5;124mProcom\u001b[39m\u001b[38;5;124m\\\u001b[39m\u001b[38;5;124mlowLevelFile.txt\u001b[39m\u001b[38;5;124m\"\u001b[39m\n\u001b[1;32m---> 24\u001b[0m answer_array \u001b[38;5;241m=\u001b[39m \u001b[43mload_data\u001b[49m\u001b[43m(\u001b[49m\u001b[43mfilename\u001b[49m\u001b[43m)\u001b[49m\n\u001b[0;32m     25\u001b[0m \u001b[38;5;28mprint\u001b[39m(answer_array)\n\u001b[0;32m     26\u001b[0m \u001b[38;5;28mprint\u001b[39m(\u001b[38;5;28mlen\u001b[39m(answer_array))\n",
      "Cell \u001b[1;32mIn[16], line 6\u001b[0m, in \u001b[0;36mload_data\u001b[1;34m(filename)\u001b[0m\n\u001b[0;32m      1\u001b[0m \u001b[38;5;28;01mdef\u001b[39;00m \u001b[38;5;21mload_data\u001b[39m(filename):\n\u001b[0;32m      2\u001b[0m     \u001b[38;5;66;03m# I have to read data from file\u001b[39;00m\n\u001b[0;32m      3\u001b[0m     \u001b[38;5;66;03m# Write that data to my 2d array\u001b[39;00m\n\u001b[0;32m      4\u001b[0m     array_2d \u001b[38;5;241m=\u001b[39m []\n\u001b[1;32m----> 6\u001b[0m     \u001b[38;5;28;01mwith\u001b[39;00m \u001b[38;5;28;43mopen\u001b[39;49m\u001b[43m(\u001b[49m\u001b[43mfilename\u001b[49m\u001b[43m,\u001b[49m\u001b[43m \u001b[49m\u001b[38;5;124;43m'\u001b[39;49m\u001b[38;5;124;43mr\u001b[39;49m\u001b[38;5;124;43m'\u001b[39;49m\u001b[43m)\u001b[49m \u001b[38;5;28;01mas\u001b[39;00m currentFile:\n\u001b[0;32m      7\u001b[0m         lines \u001b[38;5;241m=\u001b[39m currentFile\u001b[38;5;241m.\u001b[39mreadlines()\n\u001b[0;32m      9\u001b[0m         \u001b[38;5;66;03m# lines --> 1d array\u001b[39;00m\n\u001b[0;32m     10\u001b[0m         \u001b[38;5;66;03m# processing = make pairs qs1 and ans1\u001b[39;00m\n",
      "File \u001b[1;32m~\\AppData\\Roaming\\Python\\Python312\\site-packages\\IPython\\core\\interactiveshell.py:310\u001b[0m, in \u001b[0;36m_modified_open\u001b[1;34m(file, *args, **kwargs)\u001b[0m\n\u001b[0;32m    303\u001b[0m \u001b[38;5;28;01mif\u001b[39;00m file \u001b[38;5;129;01min\u001b[39;00m {\u001b[38;5;241m0\u001b[39m, \u001b[38;5;241m1\u001b[39m, \u001b[38;5;241m2\u001b[39m}:\n\u001b[0;32m    304\u001b[0m     \u001b[38;5;28;01mraise\u001b[39;00m \u001b[38;5;167;01mValueError\u001b[39;00m(\n\u001b[0;32m    305\u001b[0m         \u001b[38;5;124mf\u001b[39m\u001b[38;5;124m\"\u001b[39m\u001b[38;5;124mIPython won\u001b[39m\u001b[38;5;124m'\u001b[39m\u001b[38;5;124mt let you open fd=\u001b[39m\u001b[38;5;132;01m{\u001b[39;00mfile\u001b[38;5;132;01m}\u001b[39;00m\u001b[38;5;124m by default \u001b[39m\u001b[38;5;124m\"\u001b[39m\n\u001b[0;32m    306\u001b[0m         \u001b[38;5;124m\"\u001b[39m\u001b[38;5;124mas it is likely to crash IPython. If you know what you are doing, \u001b[39m\u001b[38;5;124m\"\u001b[39m\n\u001b[0;32m    307\u001b[0m         \u001b[38;5;124m\"\u001b[39m\u001b[38;5;124myou can use builtins\u001b[39m\u001b[38;5;124m'\u001b[39m\u001b[38;5;124m open.\u001b[39m\u001b[38;5;124m\"\u001b[39m\n\u001b[0;32m    308\u001b[0m     )\n\u001b[1;32m--> 310\u001b[0m \u001b[38;5;28;01mreturn\u001b[39;00m \u001b[43mio_open\u001b[49m\u001b[43m(\u001b[49m\u001b[43mfile\u001b[49m\u001b[43m,\u001b[49m\u001b[43m \u001b[49m\u001b[38;5;241;43m*\u001b[39;49m\u001b[43margs\u001b[49m\u001b[43m,\u001b[49m\u001b[43m \u001b[49m\u001b[38;5;241;43m*\u001b[39;49m\u001b[38;5;241;43m*\u001b[39;49m\u001b[43mkwargs\u001b[49m\u001b[43m)\u001b[49m\n",
      "\u001b[1;31mFileNotFoundError\u001b[0m: [Errno 2] No such file or directory: 'ResearchPapers/lowLevelFile.txt'"
     ]
    }
   ],
   "source": [
    "def load_data(filename):\n",
    "    # I have to read data from file\n",
    "    # Write that data to my 2d array\n",
    "    array_2d = []\n",
    "    \n",
    "    with open(filename, 'r') as currentFile:\n",
    "        lines = currentFile.readlines()\n",
    "        \n",
    "        # lines --> 1d array\n",
    "        # processing = make pairs qs1 and ans1\n",
    "        for i in range(0, len(lines), 2):\n",
    "            question = lines[i].strip()\n",
    "            answer = lines[i+1].strip()\n",
    "            \n",
    "            array_1d = [question, answer]\n",
    "            array_2d.append(array_1d)\n",
    "            \n",
    "    return array_2d\n",
    "        \n",
    "        \n",
    "    \n",
    "\n",
    "pathName = \"D:\\LeetCode_2024\\Procom\\lowLevelFile.txt\"\n",
    "answer_array = load_data(filename)\n",
    "print(answer_array)\n",
    "print(len(answer_array))"
   ]
  },
  {
   "cell_type": "markdown",
   "metadata": {},
   "source": []
  },
  {
   "cell_type": "code",
   "execution_count": 3,
   "metadata": {},
   "outputs": [
    {
     "name": "stdout",
     "output_type": "stream",
     "text": [
      "not found\n"
     ]
    }
   ],
   "source": [
    "arr = [1 , 10, 20, 30, 40, 50]\n",
    "target = 400\n",
    "\n",
    "#first i set the left and right ptr\n",
    "def BinarySearch():\n",
    "    l = 0\n",
    "    r = len(arr) - 1\n",
    "    greatestNumber = arr[r]\n",
    "    smallestNumber = arr[0]\n",
    "\n",
    "    if(target < smallestNumber or target > greatestNumber):\n",
    "        print(\"not found\")\n",
    "        return\n",
    "\n",
    "    #skip over this loop\n",
    "    while(l <= r):\n",
    "        mid = (l+r)//2\n",
    "        print(mid)\n",
    "        \n",
    "        if(arr[mid] == target):\n",
    "            print(\"target has been found at index: \", mid)\n",
    "            break\n",
    "        elif(arr[mid] < target): # 100 < 150\n",
    "            l = mid+1\n",
    "        else:\n",
    "            r = mid-1\n",
    "\n",
    "BinarySearch()"
   ]
  },
  {
   "cell_type": "code",
   "execution_count": 4,
   "metadata": {},
   "outputs": [
    {
     "name": "stdout",
     "output_type": "stream",
     "text": [
      "index:  0  value:  5\n",
      "index:  1  value:  4\n",
      "index:  2  value:  6\n",
      "index:  3  value:  3\n",
      "index:  4  value:  7\n",
      "index:  5  value:  8\n",
      "index:  6  value:  1\n",
      "index:  7  value:  2\n",
      "index:  8  value:  9\n",
      "Number has been found at index  8\n"
     ]
    }
   ],
   "source": [
    "nums = [5,4,6,3,7,8,1,2,9]\n",
    "\n",
    "# linear search - target ko search krna hai\n",
    "\n",
    "target = int(input(\"Please enter the number which u want to see: \"))\n",
    "\n",
    "found = -1          # assume k number is not there\n",
    "n = len(nums)\n",
    "for i in range(0, n):\n",
    "    print(\"index: \", i, \" value: \", nums[i])\n",
    "    \n",
    "    if nums[i] == target:\n",
    "        found = i   # current index i usko save\n",
    "        break       # wahin se bahar ajao loop se\n",
    "        \n",
    "if(found != -1):\n",
    "    print(\"Number has been found at index \", found)\n",
    "else:\n",
    "    print(\"number has not been found\")\n",
    "\n"
   ]
  },
  {
   "cell_type": "code",
   "execution_count": 8,
   "metadata": {},
   "outputs": [
    {
     "name": "stdout",
     "output_type": "stream",
     "text": [
      "t 0\n",
      "h 0\n",
      "i 0\n",
      "s 0\n",
      "  0\n",
      "i 1\n",
      "i 1\n",
      "s 1\n",
      "  1\n",
      "a 2\n",
      "  2\n",
      "Number of spaces are  3\n"
     ]
    }
   ],
   "source": [
    "def checkSpaces(s):\n",
    "    # intitial spaces ignore\n",
    "    i = 0\n",
    "    while(s[i] == ' '):\n",
    "        i += 1\n",
    "        \n",
    "        \n",
    "    # currently at first non space character\n",
    "    spaces = 0\n",
    "    index = i\n",
    "    while index < len(s):\n",
    "        print(s[index], spaces)\n",
    "        if(s[index] != ' '):\n",
    "            index += 1\n",
    "            continue\n",
    "        \n",
    "        # at this point i encounter a space\n",
    "        while(index < len(s) and s[index] == ' '):\n",
    "            index += 1\n",
    "        # j -= 1\n",
    "            \n",
    "        spaces += 1\n",
    "        \n",
    "    return spaces\n",
    "    \n",
    "    \n",
    "    \n",
    "    \n",
    "\n",
    "text = input(\"Please enter a string: \")\n",
    "print(\"Number of spaces are \", checkSpaces(text))\n",
    "\n"
   ]
  },
  {
   "cell_type": "code",
   "execution_count": null,
   "metadata": {},
   "outputs": [
    {
     "name": "stdout",
     "output_type": "stream",
     "text": [
      "<class 'int'> <class 'list'>\n",
      "<class 'int'> <class 'list'>\n",
      "<class 'int'> <class 'list'>\n",
      "<class 'int'> <class 'list'>\n",
      "1d array\n",
      "<class 'list'> <class 'list'>\n",
      "<class 'list'> <class 'list'>\n",
      "<class 'list'> <class 'list'>\n",
      "1d array\n"
     ]
    }
   ],
   "source": [
    "def customPrint(dataStructure):\n",
    "    # it tells the user whether the array is 1d or 2d\n",
    "    n = len(dataStructure)\n",
    "    two = False\n",
    "    \n",
    "    for i in range(0, n):\n",
    "        if type(dataStructure[i]) == '<class \\'list\\'>':\n",
    "            two = True\n",
    "        print(type(dataStructure[i]), '<class \\'list\\'>')\n",
    "            \n",
    "    if(two == True):\n",
    "        print(\"2d array\")\n",
    "    else:\n",
    "        print(\"1d array\")\n",
    "    \n",
    "arr = [1,2,3,4]\n",
    "nums = [[1,2,3],[4,5,6],[6,7,8]]\n",
    "\n",
    "customPrint(arr) # 1d array\n",
    "customPrint(nums) # 2d array"
   ]
  },
  {
   "cell_type": "code",
   "execution_count": null,
   "metadata": {},
   "outputs": [],
   "source": [
    "# keep taking input(num) from the user \n",
    "# untill user inputs -1\n",
    "\n",
    "num = 0 #dummy value\n",
    "while(num != -1):\n",
    "    num = int(input(\"Please enter value. -1 to exit: \"))\n",
    "    \n",
    "    \n",
    "    "
   ]
  },
  {
   "cell_type": "code",
   "execution_count": null,
   "metadata": {},
   "outputs": [
    {
     "name": "stdout",
     "output_type": "stream",
     "text": [
      "printing 0 - 9 numbers by using for loop\n",
      "0 1 2 3 4 5 6 7 8 9 \n",
      "printing 0 - 9 numbers by using while loop\n",
      "0 1 2 3 4 5 6 7 8 9 "
     ]
    }
   ],
   "source": [
    "# printing 0 - 9 numbers by using for loop\n",
    "print(\"printing 0 - 9 numbers by using for loop\")\n",
    "\n",
    "for number in range(0, 10):\n",
    "    print(number, end= \" \")\n",
    "    \n",
    "print()\n",
    "print(\"printing 0 - 9 numbers by using while loop\")\n",
    "\n",
    "#initialize\n",
    "i = 0\n",
    "while(i < 10):\n",
    "    print(i, end=\" \")\n",
    "    i = i + 1  #increment i by 1\n"
   ]
  },
  {
   "cell_type": "code",
   "execution_count": null,
   "metadata": {},
   "outputs": [
    {
     "name": "stdout",
     "output_type": "stream",
     "text": [
      "wrong number\n"
     ]
    }
   ],
   "source": [
    "n = int(input(\"Please enter a number: \"))\n",
    "\n",
    "def evenSeries():\n",
    "    # this function prints even number series starting from 1 till n\n",
    "    \n",
    "    print(\"even: \", end=\" \")\n",
    "    for i in range(2, n+1, 2):\n",
    "        print(i, end=\" \")\n",
    "\n",
    "def oddSeries():\n",
    "    # this function prints odd number series starting from 1 till n\n",
    "\n",
    "    print(\"odd: \", end=\" \")\n",
    "    for i in range(1, n, 2):\n",
    "        print(i, end=\" \")\n",
    "        \n",
    "choice = int(input(\"For even press 1. For odd press 2: \"))\n",
    "\n",
    "\n",
    "if(choice == 1):\n",
    "    evenSeries()\n",
    "elif(choice == 2):\n",
    "    oddSeries()\n",
    "else:\n",
    "    print(\"wrong number\")\n"
   ]
  },
  {
   "cell_type": "code",
   "execution_count": null,
   "metadata": {},
   "outputs": [
    {
     "name": "stdout",
     "output_type": "stream",
     "text": [
      "18\n",
      "17\n",
      "18\n",
      "19\n",
      "17\n",
      "4 19\n",
      "[[5, 4, 4, 5], [5, 4, 4, 4], [5, 5, 4, 4], [5, 5, 5, 4], [4, 4, 4, 5]]\n"
     ]
    }
   ],
   "source": [
    "# scores=[[],[],[],[],[]]\n",
    "highest=0\n",
    "user=0\n",
    "\n",
    "for i in range (0,5):\n",
    "    total=0\n",
    "    for j in range (0,4):\n",
    "        score=int(input(\" what do you score it : \"))\n",
    "        # scores[i].append(score)\n",
    "        total+=score\n",
    "        \n",
    "    # print(total)\n",
    "    \n",
    "    if total>highest:\n",
    "        highest=total\n",
    "        user=i+1\n",
    "\n",
    "print(user,highest)\n",
    "# print(scores)"
   ]
  },
  {
   "cell_type": "code",
   "execution_count": null,
   "metadata": {},
   "outputs": [
    {
     "name": "stdout",
     "output_type": "stream",
     "text": [
      "1 2 3 "
     ]
    },
    {
     "ename": "ValueError",
     "evalue": "invalid literal for int() with base 10: ''",
     "output_type": "error",
     "traceback": [
      "\u001b[1;31m---------------------------------------------------------------------------\u001b[0m",
      "\u001b[1;31mValueError\u001b[0m                                Traceback (most recent call last)",
      "Cell \u001b[1;32mIn[17], line 19\u001b[0m\n\u001b[0;32m     17\u001b[0m \u001b[38;5;28;01mfor\u001b[39;00m i \u001b[38;5;129;01min\u001b[39;00m \u001b[38;5;28mrange\u001b[39m(\u001b[38;5;241m0\u001b[39m,\u001b[38;5;241m5\u001b[39m):\n\u001b[0;32m     18\u001b[0m     \u001b[38;5;28mprint\u001b[39m(i\u001b[38;5;241m+\u001b[39m\u001b[38;5;241m1\u001b[39m, end\u001b[38;5;241m=\u001b[39m\u001b[38;5;124m\"\u001b[39m\u001b[38;5;124m \u001b[39m\u001b[38;5;124m\"\u001b[39m)\n\u001b[1;32m---> 19\u001b[0m     currentScore \u001b[38;5;241m=\u001b[39m \u001b[43monePerson\u001b[49m\u001b[43m(\u001b[49m\u001b[43m)\u001b[49m\n\u001b[0;32m     21\u001b[0m     \u001b[38;5;28;01mif\u001b[39;00m(currentScore \u001b[38;5;241m>\u001b[39m hscore):\n\u001b[0;32m     22\u001b[0m         person \u001b[38;5;241m=\u001b[39m i\u001b[38;5;241m+\u001b[39m\u001b[38;5;241m1\u001b[39m\n",
      "Cell \u001b[1;32mIn[17], line 6\u001b[0m, in \u001b[0;36monePerson\u001b[1;34m()\u001b[0m\n\u001b[0;32m      4\u001b[0m total \u001b[38;5;241m=\u001b[39m \u001b[38;5;241m0\u001b[39m\n\u001b[0;32m      5\u001b[0m \u001b[38;5;28;01mfor\u001b[39;00m i \u001b[38;5;129;01min\u001b[39;00m \u001b[38;5;28mrange\u001b[39m(\u001b[38;5;241m0\u001b[39m,\u001b[38;5;241m4\u001b[39m):\n\u001b[1;32m----> 6\u001b[0m     score \u001b[38;5;241m=\u001b[39m \u001b[38;5;28;43mint\u001b[39;49m\u001b[43m(\u001b[49m\u001b[38;5;28;43minput\u001b[39;49m\u001b[43m(\u001b[49m\u001b[43m)\u001b[49m\u001b[43m)\u001b[49m\n\u001b[0;32m      7\u001b[0m     total \u001b[38;5;241m=\u001b[39m total \u001b[38;5;241m+\u001b[39m score\n\u001b[0;32m      8\u001b[0m     arr\u001b[38;5;241m.\u001b[39mappend(score)\n",
      "\u001b[1;31mValueError\u001b[0m: invalid literal for int() with base 10: ''"
     ]
    }
   ],
   "source": [
    "\n",
    "def onePerson():\n",
    "    arr = [] #empty array\n",
    "\n",
    "    total = 0\n",
    "    for i in range(0,4):\n",
    "        score = int(input())\n",
    "        total = total + score\n",
    "        arr.append(score)\n",
    "\n",
    "    # print(total)\n",
    "    return total\n",
    "    \n",
    "# initializing\n",
    "person = 0\n",
    "hscore = 0\n",
    "\n",
    "for i in range(0,5):\n",
    "    currentScore = onePerson()\n",
    "    \n",
    "    if(currentScore > hscore):\n",
    "        person = i+1\n",
    "        hscore = currentScore\n",
    "        \n",
    "print(person, hscore)\n",
    "    "
   ]
  },
  {
   "cell_type": "code",
   "execution_count": null,
   "metadata": {},
   "outputs": [],
   "source": []
  },
  {
   "cell_type": "code",
   "execution_count": null,
   "metadata": {},
   "outputs": [],
   "source": []
  },
  {
   "cell_type": "code",
   "execution_count": null,
   "metadata": {},
   "outputs": [
    {
     "name": "stdout",
     "output_type": "stream",
     "text": [
      "* * * * * * * * \n",
      "* * * * * * * * \n",
      "* * * * * * * * \n",
      "* * * * * * * * \n",
      "* * * * * * * * \n",
      "* * * * * * * * \n",
      "* * * * * * * * \n",
      "* * * * * * * * \n"
     ]
    }
   ],
   "source": [
    "n = int(input(\"Enter input: \"))\n",
    "\n",
    "def lineprint():\n",
    "    for i in range(0, n):   # inner loop --> aik line\n",
    "        print(\"*\", end=\" \")\n",
    "        \n",
    "    print() #this is part of the outer loop\n",
    "\n",
    "# ------------------------------------------------------------\n",
    "for j in range(0, n): # outer loop -> 6 times\n",
    "    lineprint()"
   ]
  },
  {
   "cell_type": "code",
   "execution_count": null,
   "metadata": {},
   "outputs": [
    {
     "name": "stdout",
     "output_type": "stream",
     "text": [
      "4\n",
      "5\n",
      "6\n",
      "7\n",
      "8\n",
      "9\n",
      "15\n",
      "-1\n"
     ]
    }
   ],
   "source": [
    "n = 0\n",
    "\n",
    "while n != -1:\n",
    "    n = int(input(\"Please enter number: \"))\n",
    "    print(n)\n"
   ]
  },
  {
   "cell_type": "code",
   "execution_count": null,
   "metadata": {},
   "outputs": [
    {
     "name": "stdout",
     "output_type": "stream",
     "text": [
      "i= 0 j= 0 | i= 0 j= 1 | i= 0 j= 2 | i= 0 j= 3 | i= 0 j= 4 | \n",
      "i= 1 j= 0 | i= 1 j= 1 | i= 1 j= 2 | i= 1 j= 3 | i= 1 j= 4 | \n",
      "i= 2 j= 0 | i= 2 j= 1 | i= 2 j= 2 | i= 2 j= 3 | i= 2 j= 4 | \n",
      "i= 3 j= 0 | i= 3 j= 1 | i= 3 j= 2 | i= 3 j= 3 | i= 3 j= 4 | \n",
      "i= 4 j= 0 | i= 4 j= 1 | i= 4 j= 2 | i= 4 j= 3 | i= 4 j= 4 | \n"
     ]
    }
   ],
   "source": [
    "for i in range(0, 5):\n",
    "    for j in range(0, 5):\n",
    "        print(\"i=\", i , \"j=\" , j, end=\" | \")\n",
    "        \n",
    "    print()"
   ]
  },
  {
   "cell_type": "code",
   "execution_count": null,
   "metadata": {},
   "outputs": [
    {
     "name": "stdout",
     "output_type": "stream",
     "text": [
      "1 3 5 7 "
     ]
    }
   ],
   "source": [
    "# input the mumber of lines from user\n",
    "\n",
    "n = int(input(\"Please Enter how many lines do you want: \"))\n",
    "\n",
    "for i in range(0, n):\n",
    "    print(2*i + 1, end=\" \")"
   ]
  },
  {
   "cell_type": "code",
   "execution_count": null,
   "metadata": {},
   "outputs": [
    {
     "name": "stdout",
     "output_type": "stream",
     "text": [
      "93571\n",
      "9357\n",
      "935\n",
      "93\n",
      "9\n"
     ]
    }
   ],
   "source": [
    "nums2d = [ [93571],[9357],[935],[93],[9] ]\n",
    "nums = [93571, 9357, 935 , 93, 9]\n",
    "\n",
    "\n",
    "for i in range(0, len(nums)):\n",
    "    print(nums[i])"
   ]
  },
  {
   "cell_type": "code",
   "execution_count": null,
   "metadata": {},
   "outputs": [
    {
     "name": "stdout",
     "output_type": "stream",
     "text": [
      "my name is rahim | your name is aashir\n"
     ]
    }
   ],
   "source": [
    "print(\"my name is rahim\", end=\" | \")\n",
    "print(\"your name is aashir\")"
   ]
  },
  {
   "cell_type": "code",
   "execution_count": null,
   "metadata": {},
   "outputs": [
    {
     "name": "stdout",
     "output_type": "stream",
     "text": [
      "*,*,*,*,*,*,*,*,*,*,"
     ]
    }
   ],
   "source": [
    "number = int(input())\n",
    "\n",
    "for i in range(0, number):\n",
    "    print(\"*\", end=\",\")"
   ]
  },
  {
   "cell_type": "code",
   "execution_count": null,
   "metadata": {},
   "outputs": [
    {
     "name": "stdout",
     "output_type": "stream",
     "text": [
      "[0, 10, 2, 3, 4, 5]\n",
      "0, 10, 2, 3, 4, 5, \n",
      "0, 10, 2, 3, 4, 5\n",
      "My name\n"
     ]
    }
   ],
   "source": [
    "nums = [0,10,2,3,4,5]\n",
    "\n",
    "# method 1\n",
    "print(nums)\n",
    "\n",
    "# method 2\n",
    "for number in nums:\n",
    "    print(number, end= \", \")\n",
    "    \n",
    "print()\n",
    "# method 3\n",
    "n = len(nums)  # number of elements\n",
    "\n",
    "for i in range(0, n-1):\n",
    "    print(nums[i], end=\", \")\n",
    "print(nums[n-1])  # line change\n",
    "\n",
    "print(\"My name\")\n"
   ]
  },
  {
   "cell_type": "code",
   "execution_count": null,
   "metadata": {},
   "outputs": [
    {
     "name": "stdout",
     "output_type": "stream",
     "text": [
      "1 2 3 \n",
      "4 5 6 10 20 \n",
      "7 8 9 \n"
     ]
    }
   ],
   "source": [
    "# nested loops\n",
    "\n",
    "nums = [1,2,3,4]\n",
    "two_d_array = [ [1,2,3],[4,5,6, 10, 20],[7,8,9] ]\n",
    "\n",
    "for array in two_d_array:\n",
    "    for number in array:\n",
    "        print(number, end= \" \")\n",
    "    print() # line change"
   ]
  },
  {
   "cell_type": "code",
   "execution_count": null,
   "metadata": {},
   "outputs": [
    {
     "name": "stdout",
     "output_type": "stream",
     "text": [
      "[[1, 2, 3], [4, 5, 6], [7, 8, 9]]\n"
     ]
    }
   ],
   "source": [
    "print(two_d_array)"
   ]
  },
  {
   "cell_type": "code",
   "execution_count": null,
   "metadata": {},
   "outputs": [
    {
     "name": "stdout",
     "output_type": "stream",
     "text": [
      "Even Numbers are  1\n"
     ]
    }
   ],
   "source": [
    "# array\n",
    "\n",
    "nums = [10, 145]\n",
    "\n",
    "def printNumbers():\n",
    "    n = len(nums) # size\n",
    "    \n",
    "    # print each number one by one\n",
    "    for number in nums:\n",
    "        print(number)\n",
    "\n",
    "def countEven():\n",
    "    # count the even numbers\n",
    "    even = 0    # this variable counts the number of even nuymbers\n",
    "    for number in nums:\n",
    "        even = even + parity(number)\n",
    "    \n",
    "    print(\"Even Numbers are \", even)\n",
    "\n",
    "\n",
    "    \n",
    "number = 13\n",
    "\n",
    "def parity(number):\n",
    "    # even or odd\n",
    "    if(number % 2 == 0):\n",
    "        return 1 #even\n",
    "    else:\n",
    "        return 0\n",
    "        \n",
    "countEven()   "
   ]
  },
  {
   "cell_type": "code",
   "execution_count": null,
   "metadata": {},
   "outputs": [
    {
     "name": "stdout",
     "output_type": "stream",
     "text": [
      "[1 2 3 4 5]\n"
     ]
    }
   ],
   "source": [
    "# do something related with numpy\n",
    "def main():\n",
    "    a = np.array([1,2,3,4,5])\n",
    "    print(a)\n",
    "    \n",
    "if __name__ == '__main__':\n",
    "    main()\n",
    "    "
   ]
  },
  {
   "cell_type": "code",
   "execution_count": null,
   "metadata": {},
   "outputs": [
    {
     "name": "stdout",
     "output_type": "stream",
     "text": [
      "[ 1  4  9 16 25]\n"
     ]
    }
   ],
   "source": [
    "# I want a function which receives a numpy array and squares all elements of the array\n",
    "\n",
    "import numpy as np # type: ignore\n",
    "\n",
    "def square(a):\n",
    "    return a*a\n",
    "\n",
    "if __name__ == '__main__':\n",
    "    a = np.array([1,2,3,4,5])\n",
    "    print(square(a))\n",
    "    \n",
    "    \n",
    "    "
   ]
  },
  {
   "cell_type": "code",
   "execution_count": null,
   "metadata": {},
   "outputs": [
    {
     "name": "stdout",
     "output_type": "stream",
     "text": [
      "[15, 20, 25]\n"
     ]
    }
   ],
   "source": [
    "nums = [1,2,3,4,5,6,7]\n",
    "answer = []\n",
    "n = len(nums) # 5\n",
    "\n",
    "windowSize = 5\n",
    "# need k hisab se chalna - SE \n",
    "# code (improvement)\n",
    "for i in range(n - windowSize + 1):\n",
    "    total = 0\n",
    "    for j in range(i, i + windowSize): #0-4 1-5 2-6\n",
    "        total += nums[j]\n",
    "    \n",
    "    answer.append(total)\n",
    "    \n",
    "print(answer)\n",
    "\n",
    "    \n",
    "\n"
   ]
  },
  {
   "cell_type": "code",
   "execution_count": null,
   "metadata": {},
   "outputs": [
    {
     "name": "stdout",
     "output_type": "stream",
     "text": [
      "28\n",
      "28\n"
     ]
    }
   ],
   "source": [
    "# Brute force approach\n",
    "nums = [0,1,2,3,4,5] #0-6\n",
    "\n",
    "counter = 2\n",
    "\n",
    "for count in range(counter):\n",
    "    start = int(input(\"Input the starting index : \"))\n",
    "    end = int(input(\"Input the starting index : \"))\n",
    "\n",
    "    sum = 0\n",
    "    for i in range(start, end+1):\n",
    "        sum += nums[i] \n",
    "        \n",
    "    print(sum)\n",
    "\n",
    "# counter   = 10000\n",
    "# len(nums) = 10000 0-9999\n",
    "\n",
    "# worse case \n"
   ]
  },
  {
   "cell_type": "code",
   "execution_count": null,
   "metadata": {},
   "outputs": [
    {
     "name": "stdout",
     "output_type": "stream",
     "text": [
      "20\n",
      "18\n"
     ]
    }
   ],
   "source": [
    "# prefix sum - optimal\n",
    "nums = [2,3,4,5,6] # 10000\n",
    "prefixSum = [0]\n",
    "\n",
    "sum = 0\n",
    "counter = 10000\n",
    "\n",
    "#O(n) operations - Linear relationship\n",
    "for i in range(len(nums)):\n",
    "    sum += nums[i]\n",
    "    prefixSum.append(sum)\n",
    "    \n",
    "    \n",
    "for count in range(counter):\n",
    "    start = int(input(\"Input the starting index : \")) # 0\n",
    "    end = int(input(\"Input the starting index : \"))   # 4\n",
    "\n",
    "    answer = prefixSum[end+1] - prefixSum[start] #single operaion lets me know the sum\n",
    "    print(answer)\n",
    "        \n",
    "    \n",
    "# 10000 + 10000 \n"
   ]
  },
  {
   "cell_type": "code",
   "execution_count": null,
   "metadata": {},
   "outputs": [
    {
     "name": "stdout",
     "output_type": "stream",
     "text": [
      "[2, 4, 6, 1, 3, 5, 7]\n"
     ]
    }
   ],
   "source": [
    "nums = [1,2,3,4,5,6,7] # TC O(n) -inplace\n",
    "# sort : even odd\n",
    "#sorted = [] #O(n) extra space - grows linearly with input elements\n",
    "            #O(1) -constant extra space - variable\n",
    "\n",
    "\n",
    "        \n",
    "print(sorted)\n",
    "        \n",
    "\n",
    "        "
   ]
  },
  {
   "cell_type": "code",
   "execution_count": null,
   "metadata": {},
   "outputs": [],
   "source": [
    "class Stack:\n",
    "    def __init__(self):\n",
    "        self.stack = [] # private\n",
    "        \n",
    "    def push(self, number):\n",
    "        self.stack.append(number)\n",
    "        \n",
    "    def pop(self):\n",
    "        if self.isEmpty():\n",
    "            return\n",
    "        \n",
    "        self.stack.pop() #case where stack in empty - code break\n",
    "        \n",
    "    def top(self):\n",
    "        if self.isEmpty():\n",
    "            return\n",
    "        \n",
    "        n = len(self.stack) #break when the array is empty\n",
    "        return self.stack[n-1]\n",
    "    \n",
    "    def isEmpty(self):\n",
    "        #boolean function - returns true or false - user experince\n",
    "        n = len(self.stack)\n",
    "        if n == 0:\n",
    "            print(\"Stack is empty\")\n",
    "            return True\n",
    "        \n",
    "        return False    \n"
   ]
  },
  {
   "cell_type": "code",
   "execution_count": null,
   "metadata": {},
   "outputs": [],
   "source": [
    "class Queue:\n",
    "    def __init__(self):\n",
    "        self.queue = []\n",
    "        \n",
    "    def enqueue(self, number):\n",
    "        self.queue.append(number)\n",
    "        \n",
    "    def dequeue(self):\n",
    "        if not self.IsEmpty():\n",
    "            return self.queue.pop(0)\n",
    "        else:\n",
    "            print(\"Queue is already empty 1\")\n",
    "            \n",
    "    def front(self):\n",
    "        if self.IsEmpty():\n",
    "            print(\"Queue is already empty. nothing to show\")\n",
    "        else:\n",
    "            return self.queue[0]\n",
    "        \n",
    "    def IsEmpty(self):\n",
    "        return len(self.queue) == 0\n",
    "    \n",
    "    def Size(self):\n",
    "        return len(self.queue)\n",
    "        \n",
    "    "
   ]
  },
  {
   "cell_type": "markdown",
   "metadata": {},
   "source": [
    "### implement a Stack using Queue class"
   ]
  },
  {
   "cell_type": "code",
   "execution_count": null,
   "metadata": {},
   "outputs": [],
   "source": [
    "class StackMadeWithQueues:\n",
    "    def __init__(self):\n",
    "        self.QueueIN = Queue()\n",
    "        self.QueueOUT = Queue()\n",
    "        \n",
    "    def push(self, value):\n",
    "        self.QueueIN.enqueue(value)\n",
    "        \n",
    "    def pop(self):\n",
    "        if self.QueueIN.IsEmpty():\n",
    "            print(\"Stack is already empty\")\n",
    "            return\n",
    "    \n",
    "        while(self.QueueIN.Size() != 1):\n",
    "            frontNumber = self.QueueIN.dequeue()\n",
    "            self.QueueOUT.enqueue(frontNumber)\n",
    "        \n",
    "        #i only have 20\n",
    "        self.QueueIN.dequeue()\n",
    "        \n",
    "        while(self.QueueOUT.IsEmpty() == False):\n",
    "            frontNumber = self.QueueOUT.dequeue()\n",
    "            self.QueueIN.enqueue(frontNumber)\n",
    "            \n",
    "    def top(self):\n",
    "        if self.QueueIN.IsEmpty():\n",
    "            print(\"Stack is already empty top\")\n",
    "            return\n",
    "    \n",
    "        while(self.QueueIN.Size() != 1):\n",
    "            frontNumber = self.QueueIN.dequeue()\n",
    "            self.QueueOUT.enqueue(frontNumber)\n",
    "        \n",
    "        #i only have 20\n",
    "        \n",
    "        frontNumber = self.QueueIN.dequeue()\n",
    "        self.QueueOUT.enqueue(frontNumber)\n",
    "            \n",
    "        while(self.QueueOUT.IsEmpty()):\n",
    "            frontNumber = self.QueueOUT.dequeue()\n",
    "            self.QueueIN.enqueue(frontNumber)\n",
    "            \n",
    "    def Size(self):\n",
    "        return self.QueueIN.Size()\n",
    "    \n",
    "    def isEmpty(self):\n",
    "        return self.QueueIN.Size() == 0"
   ]
  },
  {
   "cell_type": "code",
   "execution_count": null,
   "metadata": {},
   "outputs": [
    {
     "data": {
      "text/plain": [
       "True"
      ]
     },
     "execution_count": 42,
     "metadata": {},
     "output_type": "execute_result"
    }
   ],
   "source": [
    "stackUsingQueue = StackMadeWithQueues()\n",
    "stackUsingQueue.push(1)\n",
    "stackUsingQueue.push(10)\n",
    "stackUsingQueue.push(13)\n",
    "stackUsingQueue.push(130)\n",
    "\n",
    "stackUsingQueue.pop()\n",
    "stackUsingQueue.pop()\n",
    "stackUsingQueue.pop()\n",
    "stackUsingQueue.pop()\n",
    "\n",
    "stackUsingQueue.isEmpty()\n"
   ]
  },
  {
   "cell_type": "markdown",
   "metadata": {},
   "source": [
    "### implement a Queue using Stack class\n"
   ]
  },
  {
   "cell_type": "code",
   "execution_count": null,
   "metadata": {},
   "outputs": [
    {
     "name": "stdout",
     "output_type": "stream",
     "text": [
      "['Found', 'Found', 'Not Found']\n"
     ]
    }
   ],
   "source": [
    "arrayWords = [\"sad\",\"happy\",\"samy\",\"samhi\",\"sadden\"] #n\n",
    "#using arrayWords --> created a tree\n",
    "\n",
    "target = [\"sad\",\"samy\",\"happy\"] #m\n",
    "ans = [] #found, not found\n",
    "\n",
    "n = len(arrayWords)\n",
    "m = len(target)\n",
    "\n",
    "for i in range(0, m):\n",
    "    # i --> 0 1 2\n",
    "    status = False\n",
    "    for j in range(0, n):\n",
    "    # j -> 0d 1d 2d 3 4 \n",
    "        if(arrayWords[j] == target[i]):\n",
    "            ans.append(\"Found\")\n",
    "            status = True\n",
    "            break\n",
    "    if not status:\n",
    "        ans.append(\"Not Found\")\n",
    "        \n",
    "print(ans)"
   ]
  },
  {
   "cell_type": "code",
   "execution_count": null,
   "metadata": {},
   "outputs": [
    {
     "data": {
      "text/plain": [
       "'rahim'"
      ]
     },
     "execution_count": 10,
     "metadata": {},
     "output_type": "execute_result"
    }
   ],
   "source": [
    "class Node:\n",
    "    def __init__(self, number):\n",
    "        self.val = number\n",
    "        self.left = None\n",
    "        self.right = None\n",
    "        \n",
    "class BST:\n",
    "    def __init__(self) :\n",
    "        self.root = None\n",
    "    \n",
    "    #what if i dont want duplicate values\n",
    "    def insertNode(self, number):\n",
    "        #first number always becomes the root\n",
    "        if self.root is None:\n",
    "            self.root = Node(number)\n",
    "        else:\n",
    "            currentNode = self.root\n",
    "            \n",
    "            while True:\n",
    "                if number < currentNode.val:\n",
    "                    if currentNode.left is None:\n",
    "                        currentNode.left = Node(number)\n",
    "                        break\n",
    "                    else:\n",
    "                        currentNode = currentNode.left #updating my current Node\n",
    "\n",
    "                else: #number >= currentNode.val\n",
    "                    if currentNode.right is None:\n",
    "                        currentNode.right = Node(number)\n",
    "                        break\n",
    "                    else:\n",
    "                        currentNode = currentNode.right #most important\n",
    "            \n",
    "    #pre order\n",
    "    #in order\n",
    "    #post order"
   ]
  },
  {
   "cell_type": "code",
   "execution_count": null,
   "metadata": {},
   "outputs": [],
   "source": [
    "tree1 = BST()\n",
    "tree12 = BST()\n",
    "\n",
    "tree1.insertNode(9) #root\n",
    "tree1.insertNode(5)\n",
    "tree1.insertNode(3)\n",
    "tree1.insertNode(1)\n",
    "\n",
    "\n",
    "array = [1,2,3,4]\n",
    "array.append(5)"
   ]
  },
  {
   "cell_type": "code",
   "execution_count": null,
   "metadata": {},
   "outputs": [],
   "source": [
    "class ListNode:\n",
    "    def __init__(self, number):\n",
    "        self.val = number\n",
    "        self.next = None\n",
    "        \n",
    "class List:\n",
    "    def __init__(self ):\n",
    "        self.root = None\n",
    "        \n",
    "    def InsertNodeList(self, number):\n",
    "        if self.root is None:\n",
    "            self.root = ListNode(number)\n",
    "        else:\n",
    "            current = self.root\n",
    "            \n",
    "            while True:\n",
    "                if current.next is None:\n",
    "                    current.next = ListNode(number)\n",
    "                    break\n",
    "                else:\n",
    "                    current = current.next\n",
    "                 \n",
    "    def printValues(self):\n",
    "        current = self.root\n",
    "        \n",
    "        while current is not None:\n",
    "            print(current.val)\n",
    "            current = current.next\n",
    "\n",
    "        \n"
   ]
  },
  {
   "cell_type": "code",
   "execution_count": null,
   "metadata": {},
   "outputs": [
    {
     "name": "stdout",
     "output_type": "stream",
     "text": [
      "1\n",
      "13\n",
      "2\n",
      "23\n",
      "21\n"
     ]
    }
   ],
   "source": [
    "ObjectList = List()\n",
    "ObjectList.InsertNodeList(1)\n",
    "ObjectList.InsertNodeList(13)\n",
    "ObjectList.InsertNodeList(2)\n",
    "\n",
    "\n",
    "\n",
    "ObjectList.printValues()\n",
    "\n"
   ]
  },
  {
   "cell_type": "code",
   "execution_count": null,
   "metadata": {},
   "outputs": [
    {
     "name": "stdout",
     "output_type": "stream",
     "text": [
      "2\n"
     ]
    }
   ],
   "source": [
    "print(2)"
   ]
  },
  {
   "cell_type": "code",
   "execution_count": null,
   "metadata": {},
   "outputs": [
    {
     "name": "stdout",
     "output_type": "stream",
     "text": [
      "aabbcceedd\n"
     ]
    }
   ],
   "source": [
    "s = \"aaaaabbbbbcccceeeeeddddddd\"\n",
    "# print a new str\n",
    "# which doesnt have 3 or more equal characters\n",
    "\n",
    "ans = s[0] #a\n",
    "cnt = 1\n",
    "index = 0\n",
    "\n",
    "for i in range(1, len(s)):\n",
    "    #compare s[i] with the last char of ans\n",
    "    if(s[i] == ans[-1]):\n",
    "        cnt += 1\n",
    "        \n",
    "        if(cnt < 3):\n",
    "            ans += s[i]\n",
    "    else:\n",
    "        ans += s[i]     #append the new char\n",
    "        cnt = 1         #reset the counter\n",
    "        \n",
    "print(ans)\n",
    "        \n",
    "        \n",
    "    "
   ]
  },
  {
   "cell_type": "code",
   "execution_count": null,
   "metadata": {},
   "outputs": [
    {
     "name": "stdout",
     "output_type": "stream",
     "text": [
      "0 0|1 0|2 0|\n",
      "0 1|1 1|2 1|\n",
      "0 2|1 2|2 2|\n",
      "0 3|1 3|2 3|\n"
     ]
    }
   ],
   "source": [
    "matrix = [[1,2,3,4],[11,22,33,44],[111,222,333,444]]\n",
    "\n",
    "for i in range(len(matrix[0])):\n",
    "    for j in range(len(matrix)):\n",
    "        print(j,i , end=\"|\")\n",
    "    print()\n",
    "    "
   ]
  },
  {
   "cell_type": "code",
   "execution_count": null,
   "metadata": {},
   "outputs": [
    {
     "name": "stdout",
     "output_type": "stream",
     "text": [
      "Number has not been found\n"
     ]
    }
   ],
   "source": [
    "arr = [4,3,10,5,2,34,76,0]\n",
    "\n",
    "length = len(arr)\n",
    "target = 765 # this number is what we are searching for\n",
    "found = False   # nahi mila\n",
    "\n",
    "for i in range(length):\n",
    "    if(arr[i] == target):\n",
    "        print(\"Number has been found\")\n",
    "        found = True #number has been found\n",
    "        \n",
    "if(found == False):\n",
    "    print(\"Number has not been found\")\n",
    "        \n"
   ]
  }
 ],
 "metadata": {
  "kernelspec": {
   "display_name": "Python 3",
   "language": "python",
   "name": "python3"
  },
  "language_info": {
   "codemirror_mode": {
    "name": "ipython",
    "version": 3
   },
   "file_extension": ".py",
   "mimetype": "text/x-python",
   "name": "python",
   "nbconvert_exporter": "python",
   "pygments_lexer": "ipython3",
   "version": "3.12.1"
  }
 },
 "nbformat": 4,
 "nbformat_minor": 2
}
