{
 "cells": [
  {
   "cell_type": "code",
   "execution_count": 3,
   "metadata": {},
   "outputs": [],
   "source": [
    "import numpy as np   "
   ]
  },
  {
   "cell_type": "code",
   "execution_count": 5,
   "metadata": {},
   "outputs": [
    {
     "name": "stdout",
     "output_type": "stream",
     "text": [
      "[1 2 3 4 5]\n"
     ]
    }
   ],
   "source": [
    "# do something related with numpy\n",
    "def main():\n",
    "    a = np.array([1,2,3,4,5])\n",
    "    print(a)\n",
    "    \n",
    "if __name__ == '__main__':\n",
    "    main()\n",
    "    "
   ]
  },
  {
   "cell_type": "code",
   "execution_count": 6,
   "metadata": {},
   "outputs": [
    {
     "name": "stdout",
     "output_type": "stream",
     "text": [
      "[ 1  4  9 16 25]\n"
     ]
    }
   ],
   "source": [
    "# I want a function which receives a numpy array and squares all elements of the array\n",
    "\n",
    "import numpy as np\n",
    "\n",
    "def square(a):\n",
    "    return a*a\n",
    "\n",
    "if __name__ == '__main__':\n",
    "    a = np.array([1,2,3,4,5])\n",
    "    print(square(a))\n",
    "    \n",
    "    \n",
    "    "
   ]
  },
  {
   "cell_type": "code",
   "execution_count": 41,
   "metadata": {},
   "outputs": [
    {
     "name": "stdout",
     "output_type": "stream",
     "text": [
      "[15, 20, 25]\n"
     ]
    }
   ],
   "source": [
    "nums = [1,2,3,4,5,6,7]\n",
    "answer = []\n",
    "n = len(nums) # 5\n",
    "\n",
    "windowSize = 5\n",
    "# need k hisab se chalna - SE \n",
    "# code (improvement)\n",
    "for i in range(n - windowSize + 1):\n",
    "    total = 0\n",
    "    for j in range(i, i + windowSize): #0-4 1-5 2-6\n",
    "        total += nums[j]\n",
    "    \n",
    "    answer.append(total)\n",
    "    \n",
    "print(answer)\n",
    "\n",
    "    \n",
    "\n"
   ]
  },
  {
   "cell_type": "code",
   "execution_count": 24,
   "metadata": {},
   "outputs": [
    {
     "name": "stdout",
     "output_type": "stream",
     "text": [
      "12\n",
      "4\n",
      "6\n"
     ]
    }
   ],
   "source": [
    "\n",
    "\n",
    "nums = [1,12,3,4,5,6,87]\n",
    "for i in range(1,len(nums), 2):\n",
    "    print(nums[i])\n",
    "    \n"
   ]
  }
 ],
 "metadata": {
  "kernelspec": {
   "display_name": "Python 3",
   "language": "python",
   "name": "python3"
  },
  "language_info": {
   "codemirror_mode": {
    "name": "ipython",
    "version": 3
   },
   "file_extension": ".py",
   "mimetype": "text/x-python",
   "name": "python",
   "nbconvert_exporter": "python",
   "pygments_lexer": "ipython3",
   "version": "3.12.1"
  }
 },
 "nbformat": 4,
 "nbformat_minor": 2
}
